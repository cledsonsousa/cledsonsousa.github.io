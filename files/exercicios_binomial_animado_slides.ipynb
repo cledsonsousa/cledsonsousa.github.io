{
 "cells": [
  {
   "cell_type": "markdown",
   "id": "6391820b-e0b5-4c58-9ad2-8fb6c849d30d",
   "metadata": {
    "editable": true,
    "jp-MarkdownHeadingCollapsed": true,
    "jupyter": {
     "source_hidden": true
    },
    "slideshow": {
     "slide_type": "slide"
    },
    "tags": []
   },
   "source": [
    "Esta deve ser a 5a ou 6a vez que eu tento me comprometer a estudar estatítica. Mas eu encontrei depois de Feynman e alguns\n",
    "métodos que eu mesmo fui criando. Por exemplo, eu só engrenei em python depois que eu aprendi bem o conceito de listas e list comprehension, o resto foi no fluxo.\n",
    "Estattística foi parecido, eu já tinha tentado outras metodologias, descritiva primeiro, depois inferencial. -água\n",
    "Depois tentei probabilidade primeiro, idem\n",
    "Agora pretendo seguir o seguinte plano:\n",
    "\n",
    "🔲 \n",
    "✅\n",
    "1. **Espaço amostral e conjuntos distintos**  \n",
    "   - Espaço amostral finito e discreto  ✅\n",
    "   - Eventos como subconjuntos  ✅\n",
    "\n",
    "2. **Combinação, Permutação e Binômio de Newton**  \n",
    "   - Contagem de eventos  ✅\n",
    "   - Fatorial e coeficientes binomiais ✅ \n",
    "   - Aplicações em transmissão e endereçamento  \n",
    "\n",
    "3. **Variáveis Aleatórias, Esperança e Variância**  \n",
    "   - Função de probabilidade  \n",
    "   - Valor esperado como centro de massa 🔲 \n",
    "   - Variância como medida de dispersão  🔲\n",
    "\n",
    "4. **Distribuições de Probabilidade em Telecom (Binomial e Poisson)**  \n",
    "   - Binomial: número de sucessos em n transmissões  ✅\n",
    "   - Poisson: número de eventos por intervalo de tempo ✅ \n",
    "   - Modelos discretos aplicados a tráfego e erros  ✅\n",
    "\n",
    "5. **Probabilidade Condicional e Independência**  \n",
    "   - Probabilidade conjunta e condicional  \n",
    "   - Independência de eventos  \n",
    "   - Aplicações em segurança, falhas e confiabilidade  \n",
    "\n",
    "6. **Teorema de Bayes e Inferência Probabilística**  \n",
    "   - Atualização de crenças com evidências  \n",
    "   - Classificação e fusão de sensores  \n",
    "   - Aplicações em HAR, QoS e decisão binária  \n",
    "\n",
    "7. **Erros, Resíduos e Intervalos de Confiança**  \n",
    "   - Erro amostral vs erro residual  \n",
    "   - Construção de intervalos de confiança  \n",
    "   - Interpretação em experimentos repetíveis  \n",
    "\n",
    "8. **Regressão Linear Simples**  \n",
    "   - Ajuste de curva por mínimos quadrados  \n",
    "   - Interpretação geométrica dos resíduos  \n",
    "   - Aplicações em modelagem de tráfego e séries temporais\n",
    "\n",
    "### Exercício 1\n",
    "\n",
    "Um roteador gerencia a sub-rede 192.168.1.0/24, com 254 IPs disponíveis para hosts. Suponha que um sistema sorteia aleatoriamente 1 endereço IP dessa sub-rede.\n",
    "\n",
    "**Pergunta: Qual é o espaço amostral desse experimento?**  \n",
    "<span style=\"color:blue\">$\\displaystyle \\Omega = \\{192.168.1.1,\\ 192.168.1.2,\\ ...,\\ 192.168.1.254\\}$</span>\n",
    "\n",
    "**Quantos elementos ele possui?**  \n",
    "<span style=\"color:blue\">$\\displaystyle 2^8 - 2$</span>\n",
    "\n",
    "---\n",
    "\n",
    "### Exercício 2\n",
    "\n",
    "Na sub-rede 10.0.0.0/30, quais são os possíveis IPs atribuíveis a hosts?\n",
    "\n",
    "<span style=\"color:blue\">$\\displaystyle 2^2 - 2$ hosts,  \n",
    "$\\displaystyle \\Omega = \\{10.0.0.1, 10.0.0.2\\} \\Rightarrow |\\Omega| = 2$</span>\n",
    "\n",
    "---\n",
    "\n",
    "### Exercício 4\n",
    "\n",
    "Uma ferramenta sorteia um endereço de IP da faixa 172.16.0.0 até 172.16.0.15.\n",
    "\n",
    "**Pergunta: Quantos elementos tem o espaço amostral?**  \n",
    "<span style=\"color:blue\">$\\displaystyle \\Omega = 16$</span>\n"
   ]
  },
  {
   "cell_type": "markdown",
   "id": "b46ab268-176e-46aa-bfe0-e5d7b5f8de3b",
   "metadata": {
    "editable": true,
    "slideshow": {
     "slide_type": "fragment"
    },
    "tags": []
   },
   "source": [
    "## Bloco 2 – Portas e protocolos\n",
    "### Exercício 5\n",
    "Um cliente escolhe aleatoriamente uma porta TCP entre 49152 e 65535.  \n",
    "<span style=\"color:blue\">$\\Omega = \\{49152, 49153, ..., 65535\\}$  \n",
    "$|\\Omega| = 16384$</span>\n",
    "\n",
    "---\n",
    "\n",
    "### Exercício 6\n",
    "Dez portas UDP (entre 8000 e 8009) estão ativas. Um sistema escolhe uma delas.  \n",
    "<span style=\"color:blue\">$\\Omega = \\{8000, 8001, ..., 8009\\} \\Rightarrow |\\Omega| = 10$</span>\n",
    "\n",
    "---\n",
    "\n",
    "### Exercício 7\n",
    "Uma conexão HTTPS usa sempre a porta 443. Um IDS verifica se a porta está ativa (Sim ou Não).  \n",
    "<span style=\"color:blue\">$\\Omega = \\{Sim, Não\\}$</span>\n",
    "\n",
    "---\n",
    "\n",
    "### Exercício 8\n",
    "Um scanner testa aleatoriamente 5 portas entre 1 e 1024, sem repetição:  \n",
    "<span style=\"color:blue\"><strong>Permutação (ordem importa):</strong>  \n",
    "$|\\Omega| = 1024 \\cdot 1023 \\cdot 1022 \\cdot 1021 \\cdot 1020$</span>  \n",
    "<span style=\"color:blue\"><strong>Combinação (ordem não importa):</strong>  \n",
    "$|\\Omega| = \\binom{1024}{5} = \\dfrac{1024 \\cdot 1023 \\cdot 1022 \\cdot 1021 \\cdot 1020}{120}$</span>\n"
   ]
  },
  {
   "cell_type": "markdown",
   "id": "32cffa8d-60ff-429c-ae95-ec6be4145387",
   "metadata": {
    "editable": true,
    "slideshow": {
     "slide_type": "fragment"
    },
    "tags": []
   },
   "source": [
    "## Bloco 3 – Pacotes e interfaces\n",
    "\n",
    "### Exercício 9\n",
    "Um comutador recebe pacotes rotulados A, B, C. Um pacote é escolhido para inspeção.  \n",
    "<span style=\"color:blue\">$\\Omega = \\{A, B, C\\} \\Rightarrow |\\Omega| = 3$</span>\n",
    "\n",
    "---\n",
    "\n",
    "### Exercício 10\n",
    "Pacotes chegam com rótulo e interface: (A, eth0), (B, eth1), (C, eth2).  \n",
    "<span style=\"color:blue\">Produto cartesiano: $|\\Omega| = 3 \\cdot 3 = 9$</span>\n",
    "\n",
    "---\n",
    "\n",
    "### Exercício 11\n",
    "Dois pacotes chegam por três interfaces possíveis (ordem importa):  \n",
    "<span style=\"color:blue\">$|\\Omega| = 3 \\cdot 3 \\cdot 2 = 18$ combinações</span>\n",
    "\n",
    "---\n",
    "\n",
    "### Exercício 12\n",
    "Um roteador pode encaminhar pacotes por 4 links. Um pacote sai por um link aleatório.  \n",
    "<span style=\"color:blue\">$\\Omega = \\{L_1, L_2, L_3, L_4\\} \\Rightarrow |\\Omega| = 4$</span>\n"
   ]
  },
  {
   "cell_type": "markdown",
   "id": "0932e9b8-c263-4aef-85ce-58ac4708030a",
   "metadata": {
    "editable": true,
    "slideshow": {
     "slide_type": "slide"
    },
    "tags": []
   },
   "source": [
    "## Bloco 4 – MAC e ARP\n",
    "\n",
    "### Exercício 13\n",
    "Um host emite uma requisição ARP e pode receber resposta de 3 hosts diferentes.  \n",
    "<span style=\"color:blue\">$\\Omega = \\{A_1, A_2, A_3\\} \\Rightarrow |\\Omega| = 3$</span>\n",
    "\n",
    "---\n",
    "\n",
    "### Exercício 14\n",
    "Um switch associa 4 MACs a 4 portas. Um pacote chega.  \n",
    "<span style=\"color:blue\">$\\Omega = \\{D_1, D_2, D_3\\} \\Rightarrow |\\Omega| = 3$</span>\n",
    "\n",
    "---\n",
    "\n",
    "### Exercício 15\n",
    "Em uma tabela ARP com 5 entradas únicas, uma entrada é apagada aleatoriamente.  \n",
    "<span style=\"color:blue\">$\\Omega = \\{P_1, P_2, P_3, P_4, P_5\\} \\Rightarrow |\\Omega| = 5$</span>\n"
   ]
  },
  {
   "cell_type": "markdown",
   "id": "4f2c418d-e3bf-45fb-bde9-2609974721f1",
   "metadata": {
    "editable": true,
    "slideshow": {
     "slide_type": "fragment"
    },
    "tags": []
   },
   "source": [
    "## Bloco 5 – Protocolo e conteúdo de pacotes\n",
    "\n",
    "### Exercício 16\n",
    "O campo de protocolo IP:  \n",
    "<span style=\"color:blue\">$\\Omega = \\{1, 6, 17\\}$</span>\n",
    "\n",
    "---\n",
    "\n",
    "### Exercício 17\n",
    "Campo TTL de um pacote IPv4:  \n",
    "<span style=\"color:blue\">$\\Omega = \\{1, 2, ..., 255\\} \\Rightarrow |\\Omega| = 255$</span>\n",
    "\n",
    "---\n",
    "\n",
    "### Exercício 18\n",
    "Cabeçalho TCP com 6 flags (URG, ACK, PSH, RST, SYN, FIN).  \n",
    "<span style=\"color:blue\">Total de subconjuntos: $|\\Omega| = 2^6 = 64$</span>\n"
   ]
  },
  {
   "cell_type": "markdown",
   "id": "d4a9d7f3-8eea-45ef-929f-8e70d0aa7b9f",
   "metadata": {
    "editable": true,
    "jupyter": {
     "source_hidden": true
    },
    "slideshow": {
     "slide_type": "fragment"
    },
    "tags": []
   },
   "source": [
    "## Bloco 6 – Combinatórias simples em redes\n",
    "\n",
    "### Exercício 19\n",
    "Escolher 2 switches entre 5 (ordem não importa):  \n",
    "<span style=\"color:blue\">$|\\Omega| = \\binom{5}{2} = 10$</span>\n",
    "\n",
    "---\n",
    "\n",
    "### Exercício 20\n",
    "3 firewalls podem ser ativados em qualquer ordem (ordem importa):  \n",
    "<span style=\"color:blue\">$|\\Omega| = 3! = 6$</span>\n",
    "\n",
    "---\n",
    "\n",
    "### Exercício 21\n",
    "Entre 10 pacotes, escolhem-se 3 para monitoramento (sem reposição):  \n",
    "<span style=\"color:blue\">$|\\Omega| = \\binom{10}{3} = 120$</span>\n",
    "\n",
    "---\n",
    "\n",
    "### Exercício 22\n",
    "Permutação dos servidores A, B e C:  \n",
    "<span style=\"color:blue\">$|\\Omega| = 3! = 6$</span>\n"
   ]
  },
  {
   "cell_type": "markdown",
   "id": "edfba5f5-9cb1-4c04-89a2-8d96a25699ef",
   "metadata": {
    "slideshow": {
     "slide_type": "slide"
    }
   },
   "source": [
    "## Bloco 7 – DNS, HTTP e protocolos de aplicação\n",
    "\n",
    "### Exercício 23\n",
    "Servidor DNS retorna 1 de 4 possíveis IPs:  \n",
    "<span style=\"color:blue\">$|\\Omega| = 4$</span>\n",
    "\n",
    "---\n",
    "\n",
    "### Exercício 24\n",
    "Cliente HTTP escolhe: GET, POST, PUT, DELETE:  \n",
    "<span style=\"color:blue\">$|\\Omega| = 4$</span>\n",
    "\n",
    "---\n",
    "\n",
    "### Exercício 25\n",
    "Navegador alterna entre 3 servidores proxy:  \n",
    "<span style=\"color:blue\">$|\\Omega| = 3$</span>\n"
   ]
  },
  {
   "cell_type": "markdown",
   "id": "797c3ee2-fd5e-4a29-b88b-c47efb678115",
   "metadata": {
    "slideshow": {
     "slide_type": "fragment"
    }
   },
   "source": [
    "## Bloco 8 – Eventos binários em redes\n",
    "\n",
    "### Exercício 26\n",
    "Uma conexão pode ser estabelecida ou não:  \n",
    "<span style=\"color:blue\">$|\\Omega| = 2$</span>\n",
    "\n",
    "---\n",
    "\n",
    "### Exercício 27\n",
    "Um firewall pode permitir ou negar um pacote:  \n",
    "<span style=\"color:blue\">$|\\Omega| = 2$</span>\n",
    "\n",
    "---\n",
    "\n",
    "### Exercício 28\n",
    "Um link pode estar ativo/inativo a cada 10 minutos, observado 3 vezes:  \n",
    "<span style=\"color:blue\">$|\\Omega| = 2^3 = 8$ tuplas  \n",
    "$\\Omega = \\{(0,0,0),\\ (0,0,1),\\ ...,\\ (1,1,1)\\}$</span>\n"
   ]
  },
  {
   "cell_type": "markdown",
   "id": "b6f8117b-9f85-43ab-bb59-675837f3722f",
   "metadata": {
    "slideshow": {
     "slide_type": "fragment"
    }
   },
   "source": [
    "## 🔹 Bloco 9 – Fragmentação e retransmissão\n",
    "\n",
    "### Exercício 29\n",
    "Um datagrama IP pode ser fragmentado em 1, 2 ou 3 pedaços.  \n",
    "**Pergunta: Qual o espaço amostral?**  \n",
    "<span style=\"color:blue\">$\\displaystyle \\Omega = \\{1, 2, 3\\} \\Rightarrow |\\Omega| = 3$</span>\n",
    "\n",
    "---\n",
    "\n",
    "### Exercício 30\n",
    "Um pacote TCP pode exigir 0, 1 ou 2 retransmissões.  \n",
    "**Pergunta: Qual o espaço amostral?**  \n",
    "<span style=\"color:blue\">$\\displaystyle \\Omega = \\{0, 1, 2\\} \\Rightarrow |\\Omega| = 3$</span>\n"
   ]
  },
  {
   "cell_type": "markdown",
   "id": "ddc89c5f-34a6-43f5-9671-72fb1c6701bb",
   "metadata": {
    "slideshow": {
     "slide_type": "slide"
    }
   },
   "source": [
    "## Fase 2 – Bloco 1: Eventos como Subconjuntos (continuação)\n",
    "\n",
    "### Exercício 31\n",
    "Considere o espaço amostral $\\Omega = \\{p_0, p_1, p_2\\}$. Quantos eventos distintos podem ser formados?  \n",
    "<span style=\"color:blue\">$\\displaystyle n = 2^3$</span>\n",
    "\n",
    "---\n",
    "\n",
    "### Exercício 32\n",
    "Considere o espaço amostral $\\Omega = \\{p_0, p_1, p_2, p_3\\}$. Quantos eventos distintos podem ser formados?  \n",
    "<span style=\"color:blue\">$\\displaystyle n = 2^4$</span>\n",
    "\n",
    "---\n",
    "\n",
    "### Exercício 33\n",
    "Considere o espaço amostral $\\Omega = \\{p_0, p_1, p_2, p_3, p_4\\}$. Quantos eventos distintos podem ser formados?  \n",
    "<span style=\"color:blue\">$\\displaystyle n = 2^5$</span>\n",
    "\n",
    "---\n",
    "\n",
    "### Exercício 34\n",
    "Considere o espaço amostral $\\Omega = \\{p_0, p_1, p_2, p_3, p_4, p_5\\}$. Quantos eventos distintos podem ser formados?  \n",
    "<span style=\"color:blue\">$\\displaystyle n = 2^6$</span>\n",
    "\n",
    "---\n",
    "\n",
    "### Exercício 35\n",
    "Considere o espaço amostral $\\Omega = \\{p_0, p_1\\}$. Quantos eventos distintos podem ser formados?  \n",
    "<span style=\"color:blue\">$\\displaystyle n = 2^2$</span>\n",
    "\n",
    "---\n",
    "\n",
    "### Exercício 36\n",
    "Considere o espaço amostral $\\Omega = \\{\\text{eth0}, \\text{eth1}, \\text{eth2}, \\text{eth3}\\}$. Liste todos os eventos que contêm exatamente dois elementos.  \n",
    "<span style=\"color:blue\">$\\{\\{\\text{eth0}, \\text{eth1}\\}, \\{\\text{eth0}, \\text{eth2}\\}, \\{\\text{eth0}, \\text{eth3}\\}, \\{\\text{eth1}, \\text{eth2}\\}, \\{\\text{eth1}, \\text{eth3}\\}, \\{\\text{eth2}, \\text{eth3}\\}\\}$</span>\n",
    "\n",
    "---\n",
    "\n",
    "### Exercício 37\n",
    "Seja $\\Omega = \\{A, B, C, D\\}$. Quantos eventos existem que não contêm o elemento $A$?  \n",
    "<span style=\"color:blue\">$\\displaystyle n = 2^3$</span>\n",
    "\n",
    "---\n",
    "\n",
    "### Exercício 38\n",
    "Seja $\\Omega = \\{\\text{GET}, \\text{POST}, \\text{PUT}, \\text{DELETE}\\}$. Quantos eventos possuem pelo menos dois elementos?  \n",
    "<span style=\"color:blue\">$\\displaystyle \\binom{4}{2} + \\binom{4}{3} + \\binom{4}{4} = 6 + 4 + 1 = 11$</span>\n",
    "\n",
    "---\n",
    "\n",
    "### Exercício 39\n",
    "Considere $\\Omega = \\{\\text{ICMP}, \\text{TCP}, \\text{UDP}\\}$. Liste todos os eventos que são subconjuntos próprios de $\\Omega$.  \n",
    "<span style=\"color:blue\">$\\displaystyle \\binom{3}{0} + \\binom{3}{1} + \\binom{3}{2} = 1 + 3 + 3 = 7$ subconjuntos próprios</span>\n",
    "\n",
    "---\n",
    "\n",
    "### Exercício 39b\n",
    "Seja $\\Omega = \\{1, 2, 3, 4, 5\\}$. Quantos eventos contêm simultaneamente os elementos 1 e 2?  \n",
    "<span style=\"color:blue\">$\\displaystyle \\text{Fixando 1 e 2, restam 3 elementos livres} \\Rightarrow 2^3 = 8$ subconjuntos</span>  \n",
    "<span style=\"color:blue\">Eventos:  \n",
    "$\\{1,2\\}, \\{1,2,3\\}, \\{1,2,4\\}, \\{1,2,5\\}, \\{1,2,3,4\\}, \\{1,2,3,5\\}, \\{1,2,4,5\\}, \\{1,2,3,4,5\\}$</span>\n"
   ]
  },
  {
   "cell_type": "markdown",
   "id": "834f9094-ece1-4641-90ab-c1a34478b374",
   "metadata": {
    "slideshow": {
     "slide_type": "fragment"
    }
   },
   "source": [
    "### Fase 2 – Bloco 1: Eventos como Subconjuntos (continuação)\n",
    "\n",
    "---\n",
    "\n",
    "**40.** Seja $\\Omega = \\{1,2,3,4\\}$. Quantos eventos contêm exatamente um único elemento?  \n",
    "<span style=\"color:blue\">$\\displaystyle n = 4$</span>\n",
    "\n",
    "---\n",
    "\n",
    "**41.** Seja $\\Omega = \\{a,b,c,d,e\\}$. Quantos eventos não contêm o elemento $e$?  \n",
    "<span style=\"color:blue\">$\\displaystyle 2^{4} = 16$</span>\n",
    "\n",
    "---\n",
    "\n",
    "**42.** Seja $\\Omega = \\{x_1, x_2, x_3, x_4, x_5\\}$. Quantos eventos possuem pelo menos dois elementos?  \n",
    "<span style=\"color:blue\">$\\displaystyle 2^5 - \\binom{5}{0} - \\binom{5}{1} = 32 - 1 - 5 = 26$</span>\n",
    "\n",
    "---\n",
    "\n",
    "**43.** Considere o espaço amostral $\\Omega = \\{0,1\\}^3$ (todos os vetores binários de 3 bits). Quantos eventos distintos podem ser formados?  \n",
    "<span style=\"color:blue\">$\\displaystyle |\\Omega| = 2^3 = 8$</span>\n",
    "\n",
    "---\n",
    "\n",
    "**44.** Seja $\\Omega = \\{A,B,C\\}$. Quantos eventos contêm exatamente dois elementos?  \n",
    "<span style=\"color:blue\">$\\displaystyle \\binom{3}{2} = 3$</span>\n",
    "\n",
    "---\n",
    "\n",
    "**45.** Seja $\\Omega = \\{\\text{GET}, \\text{POST}, \\text{PUT}, \\text{DELETE}, \\text{PATCH}\\}$. Quantos eventos contêm simultaneamente GET e POST?  \n",
    "<span style=\"color:blue\">Fixando GET e POST, restam 3 elementos livres → $\\displaystyle 2^3 = 8$</span>\n",
    "\n",
    "---\n",
    "\n",
    "**46.** Seja $\\Omega = \\{1,2,3,4,5,6\\}$. Quantos eventos contêm os elementos 1 e 2, mas não o 3?  \n",
    "<span style=\"color:blue\">Fixando 1 e 2, excluindo 3 → sobram 3 elementos → $\\displaystyle 2^3 = 8$</span>\n",
    "\n",
    "---\n",
    "\n",
    "**47.** Considere $\\Omega = \\{a,b,c,d\\}$. Liste todos os eventos com exatamente três elementos.  \n",
    "<span style=\"color:blue\">$\\{abc,\\ abd,\\ acd,\\ bcd\\}$</span>\n",
    "\n",
    "---\n",
    "\n",
    "**48.** Seja $\\Omega = \\{r_1, r_2, r_3, r_4, r_5\\}$. Quantos eventos possuem no máximo dois elementos?  \n",
    "<span style=\"color:blue\">$\\displaystyle \\binom{5}{0} + \\binom{5}{1} + \\binom{5}{2} = 1 + 5 + 10 = 16 = 2^4$</span>\n",
    "\n",
    "---\n",
    "\n",
    "**49.** Seja $\\Omega = \\{a,b,c,d,e\\}$. Quantos eventos $\\{P_1, P_2, P_3, P_4\\}$ contêm pelo menos o elemento $a$?  \n",
    "<span style=\"color:blue\">Fixando $a$, escolher 3 entre os outros 4 → $\\displaystyle \\binom{4}{3} = 4$</span>\n",
    "\n",
    "---\n",
    "\n",
    "**50.** Seja $\\Omega = \\{P_1, P_2, P_3, P_4\\}$. Quantos eventos têm exatamente três elementos?  \n",
    "<span style=\"color:blue\">$\\displaystyle \\binom{4}{3} = 4$</span>\n",
    "\n",
    "---\n",
    "\n",
    "**51.** Seja $\\Omega = \\{1,2,3,4,5,6\\}$. Quantos eventos são subconjuntos com número ímpar de elementos?  \n",
    "<span style=\"color:blue\">$\\binom{6}{1} + \\binom{6}{3} + \\binom{6}{5} = 6 + 20 + 6 = 32$</span>\n",
    "\n",
    "---\n",
    "\n",
    "**52.** Seja $\\Omega = \\{A,B,C,D,E\\}$. Quantos eventos possuem exatamente dois ou três elementos?  \n",
    "<span style=\"color:blue\">$\\binom{5}{2} + \\binom{5}{3} = 10 + 10 = 20$</span>\n",
    "\n",
    "---\n",
    "\n",
    "**53.** Seja $\\Omega = \\{x,y,z\\}$. Quantos eventos não contêm simultaneamente $x$ e $y$?  \n",
    "<span style=\"color:blue\">$2^3 - 1 = 8 - 2 = 6$ (excluindo $\\{x,y\\}$ e todos que o contêm)</span>\n",
    "\n",
    "---\n",
    "\n",
    "**54.** Seja $\\Omega = \\{a,b,c,d,e,f\\}$. Quantos eventos contêm pelo menos quatro elementos?  \n",
    "<span style=\"color:blue\">$\\binom{6}{4} + \\binom{6}{5} + \\binom{6}{6} = 15 + 6 + 1 = 22$</span>\n",
    "\n",
    "---\n",
    "\n",
    "**55.** Seja $\\Omega = \\{1,2,3,4\\}$. Quantos eventos contêm exatamente os elementos 1 e 2, e mais um outro qualquer?  \n",
    "<span style=\"color:blue\">Escolher 1 entre $\\{3,4\\} \\Rightarrow \\binom{2}{1} = 2 \\Rightarrow$ eventos: $\\{1,2,3\\}, \\{1,2,4\\}$</span>\n",
    "\n",
    "---\n",
    "\n",
    "**56.** Seja $\\Omega = \\{P_1, P_2, P_3, P_4, P_5\\}$. Quantos eventos possuem exatamente quatro elementos?  \n",
    "<span style=\"color:blue\">$\\displaystyle \\binom{5}{4} = 5$</span>\n",
    "\n",
    "---\n",
    "\n",
    "**57.** Seja $\\Omega = \\{A,B,C,D,E\\}$. Quantos eventos existem que não contêm os elementos $A$ nem $B$?  \n",
    "<span style=\"color:blue\">Eventos sobre $\\{C,D,E\\} \\Rightarrow 2^3 = 8$</span>\n",
    "\n",
    "---\n",
    "\n",
    "**58.** Seja $\\Omega = \\{r,s,t,u\\}$. Quantos eventos contêm pelo menos o elemento $r$?  \n",
    "<span style=\"color:blue\">Fixando $r$, livres $\\{s,t,u\\} \\Rightarrow 2^3 = 8$</span>\n",
    "\n",
    "---\n",
    "\n",
    "**59.** Seja $\\Omega = \\{1,2,3,4,5\\}$. Quantos eventos têm exatamente dois elementos ímpares?  \n",
    "<span style=\"color:blue\">$\\binom{3}{2} \\cdot 2^1 = 3 \\cdot 2 = 6$ subconjuntos com dois ímpares e um par (ex: $\\{1,3,2\\}$)  \n",
    "+ $\\binom{3}{2} = 3$ com apenas os dois ímpares. Total = 9 eventos.</span>\n",
    "\n",
    "---\n",
    "\n",
    "**60.** Seja $\\Omega = \\{a,b,c,d\\}$. Quantos eventos contêm exatamente dois elementos e não contêm o elemento $a$?  \n",
    "<span style=\"color:blue\">Escolher 2 entre $\\{b,c,d\\} \\Rightarrow \\binom{3}{2} = 3$</span>\n"
   ]
  },
  {
   "cell_type": "markdown",
   "id": "b68619d0-bffe-4bfa-8800-1ff068a747d3",
   "metadata": {
    "slideshow": {
     "slide_type": "fragment"
    }
   },
   "source": [
    "Fase 3 – Bloco 1: Variável Aleatória Discreta\n",
    "\n",
    "61. Considere uma variável aleatória $X$ que representa o número de pacotes recebidos por um roteador em 1 segundo, podendo assumir os valores $0$, $1$ ou $2$. Suponha que as probabilidades sejam $P(X=0)=0,2$, $P(X=1)=0,5$, $P(X=2)=0,3$. Represente graficamente a função de probabilidade."
   ]
  },
  {
   "cell_type": "code",
   "execution_count": 80,
   "id": "dc39e6cb-df93-43e9-91fd-7bb804f8d263",
   "metadata": {
    "slideshow": {
     "slide_type": "fragment"
    }
   },
   "outputs": [
    {
     "data": {
      "text/html": [
       "\n",
       "<div style=\"display: flex; justify-content: center; align-items: center; height: 100vh;\">\n",
       "  <div style=\"text-align:center\">\n",
       "    <img src=\"D:/g_drive/docencia/uff/projetos/probest/jupiter/figs/binomial_p0_p1.png\" width=\"700\">\n",
       "  </div>\n",
       "</div>\n"
      ]
     },
     "metadata": {},
     "output_type": "display_data"
    }
   ],
   "source": [
    "library(ggplot2)\n",
    "library(IRdisplay)\n",
    "\n",
    "# Criar dataframe\n",
    "df <- data.frame(X = factor(c(0, 1, 2)), P = c(0.2, 0.5, 0.3))\n",
    "\n",
    "# Caminho completo para salvar\n",
    "caminho <- \"D:/g_drive/docencia/uff/projetos/probest/jupiter/figs/binomial_p0_p1.png\"\n",
    "\n",
    "# Criar gráfico\n",
    "p <- ggplot(df, aes(x = X, y = P)) +\n",
    "  geom_bar(stat = \"identity\", fill = \"steelblue\") +\n",
    "  labs(title = \"Distribuição de Probabilidade de X\",\n",
    "       x = \"Pacotes por segundo (X)\", y = \"P(X = x)\") +\n",
    "  ylim(0, 1) +\n",
    "  theme_minimal()\n",
    "\n",
    "# Salvar imagem\n",
    "ggsave(filename = caminho, plot = p, width = 7, height = 5, dpi = 300)\n",
    "\n",
    "# Exibir centralizado no notebook\n",
    "display_html(sprintf('\n",
    "<div style=\"display: flex; justify-content: center; align-items: center; height: 100vh;\">\n",
    "  <div style=\"text-align:center\">\n",
    "    <img src=\"%s\" width=\"700\">\n",
    "  </div>\n",
    "</div>\n",
    "', caminho))\n"
   ]
  },
  {
   "cell_type": "markdown",
   "id": "349f7b9d-0738-4f6b-b7f4-d073d32c9a74",
   "metadata": {
    "slideshow": {
     "slide_type": "fragment"
    }
   },
   "source": [
    "### Exercício 62\n",
    "Para a variável aleatória do exercício anterior, calcule $P(X \\leq 1)$ e $P(X > 0)$.\n",
    "\n",
    "<span style=\"color:blue\">R – $P(X \\leq 1) = 0{,}2$ e $P(X > 0) = 0{,}8$</span>\n",
    "\n",
    "---\n",
    "\n",
    "### Exercício 63\n",
    "Verifique se as probabilidades fornecidas no exercício 61 constituem uma distribuição de probabilidade válida.\n",
    "\n",
    "<span style=\"color:blue\">R – Sim, $\\displaystyle \\sum P(X = x) = 1$</span>\n"
   ]
  },
  {
   "cell_type": "markdown",
   "id": "d31abb3a-bf1f-4492-aa84-2bf17468a281",
   "metadata": {
    "slideshow": {
     "slide_type": "fragment"
    }
   },
   "source": [
    "### Exercícios 64–65\n",
    "\n",
    "Um servidor monitora o número de tentativas de acesso por segundo.  \n",
    "A variável $Y$ pode assumir os valores de $0$ a $4$, com probabilidades proporcionais a esses valores.\n",
    "\n",
    "**64.** Determine a função de probabilidade de $Y$.\n",
    "\n",
    "<span style=\"color:blue\">Como as probabilidades são proporcionais aos valores de $Y$, temos:</span>  \n",
    "<span style=\"color:blue\">$P(Y = y) = \\dfrac{y}{\\sum_{k=0}^{4} k} = \\dfrac{y}{10}$, para $y = 0, 1, 2, 3, 4$</span>  \n",
    "<span style=\"color:blue\">Logo, $P(Y = 0) = 0$, $P(Y = 1) = 0{,}1$, $P(Y = 2) = 0{,}2$, $P(Y = 3) = 0{,}3$, $P(Y = 4) = 0{,}4$</span>\n",
    "\n",
    "---\n",
    "\n",
    "**65.** Crie um gráfico de barras com os valores de $Y$ e suas respectivas probabilidades.\n"
   ]
  },
  {
   "cell_type": "code",
   "execution_count": 79,
   "id": "212d3ebe-dd6b-4c99-b81c-e39ffe09d75b",
   "metadata": {
    "slideshow": {
     "slide_type": "fragment"
    }
   },
   "outputs": [
    {
     "data": {
      "text/html": [
       "\n",
       "<div style=\"display: flex; justify-content: center; align-items: center; height: 100vh;\">\n",
       "  <div style=\"text-align:center\">\n",
       "    <img src=\"D:/g_drive/docencia/uff/projetos/probest/jupiter/figs/probabilidade_X.png\" width=\"700\">\n",
       "  </div>\n",
       "</div>\n"
      ]
     },
     "metadata": {},
     "output_type": "display_data"
    }
   ],
   "source": [
    "library(ggplot2)\n",
    "library(IRdisplay)\n",
    "\n",
    "# Criar dataframe\n",
    "df <- data.frame(X = factor(c(0, 1, 2, 3, 4)), P = c(0.0, 0.1, 0.2, 0.3, 0.4))\n",
    "\n",
    "# Caminho para salvar o gráfico\n",
    "caminho <- \"D:/g_drive/docencia/uff/projetos/probest/jupiter/figs/probabilidade_X.png\"\n",
    "\n",
    "# Criar o gráfico\n",
    "p <- ggplot(df, aes(x = X, y = P)) +\n",
    "  geom_bar(stat = \"identity\", fill = \"steelblue\") +\n",
    "  labs(title = \"Distribuição de Probabilidade de X\",\n",
    "       x = \"Pacotes por segundo (X)\", y = \"P(X = x)\") +\n",
    "  ylim(0, 1) +\n",
    "  theme_minimal()\n",
    "\n",
    "# Salvar no diretório\n",
    "ggsave(filename = caminho, plot = p, width = 7, height = 5, dpi = 300)\n",
    "\n",
    "# Exibir centralizado no notebook\n",
    "display_html(sprintf('\n",
    "<div style=\"display: flex; justify-content: center; align-items: center; height: 100vh;\">\n",
    "  <div style=\"text-align:center\">\n",
    "    <img src=\"%s\" width=\"700\">\n",
    "  </div>\n",
    "</div>\n",
    "', caminho))\n"
   ]
  },
  {
   "cell_type": "markdown",
   "id": "3ff3a25a-4837-4c52-beb5-37a9bec10374",
   "metadata": {
    "slideshow": {
     "slide_type": "fragment"
    }
   },
   "source": [
    "### Exercício 66/67\n",
    "\n",
    "Um pacote pode ser aceito ($1$) ou descartado ($0$).  \n",
    "Defina a variável aleatória $Z$ associada a esse experimento. Qual o nome dessa distribuição?\n",
    "\n",
    "<span style=\"color:blue\">A variável aleatória $Z$ assume valores em $\\{0,1\\}$.</span>  \n",
    "<span style=\"color:blue\">Essa é uma distribuição de Bernoulli.</span>\n",
    "\n",
    "<span style=\"color:blue\">\n",
    "$\\text{Distribuição de Bernoulli: } Z \\in \\{0,1\\}$  \n",
    "$$\n",
    "P(Z = z) =\n",
    "\\begin{cases}\n",
    "p       & \\text{se } z = 1 \\\\\\\\\n",
    "1 - p   & \\text{se } z = 0 \\\\\\\\\n",
    "0       & \\text{caso contrário}\n",
    "\\end{cases}\n",
    "$$\n",
    "</span>\n"
   ]
  },
  {
   "cell_type": "code",
   "execution_count": 78,
   "id": "e9d4f7ce-0804-4a4e-9085-c2d4d7e4995b",
   "metadata": {
    "slideshow": {
     "slide_type": "fragment"
    }
   },
   "outputs": [
    {
     "data": {
      "text/html": [
       "\n",
       "<div style=\"display: flex; justify-content: center; align-items: center; height: 100vh;\">\n",
       "  <div style=\"text-align:center\">\n",
       "    <img src=\"D:/g_drive/docencia/uff/projetos/probest/jupiter/figs/bernoulli_Z.png\" width=\"600\">\n",
       "  </div>\n",
       "</div>\n"
      ]
     },
     "metadata": {},
     "output_type": "display_data"
    }
   ],
   "source": [
    "# Diretório e nome do arquivo\n",
    "caminho <- \"D:/g_drive/docencia/uff/projetos/probest/jupiter/figs/bernoulli_Z.png\"\n",
    "\n",
    "# Criar diretório, se necessário\n",
    "dir.create(dirname(caminho), recursive = TRUE, showWarnings = FALSE)\n",
    "\n",
    "# Abrir dispositivo gráfico para salvar imagem\n",
    "png(filename = caminho, width = 700, height = 500)\n",
    "\n",
    "# Valores possíveis da variável Z\n",
    "z <- c(0, 1)\n",
    "\n",
    "# Probabilidades associadas\n",
    "p <- c(0.3, 0.7)  # P(Z=0)=0.3, P(Z=1)=0.7\n",
    "\n",
    "# Gráfico de barras\n",
    "barplot(p, names.arg = z, col = \"steelblue\",\n",
    "        main = \"Distribuição de Probabilidade de Z ~ Bernoulli(0.7)\",\n",
    "        xlab = \"Z\", ylab = \"P(Z = z)\",\n",
    "        ylim = c(0, 1))\n",
    "\n",
    "# Fechar dispositivo gráfico\n",
    "invisible(dev.off())\n",
    "\n",
    "# Exibir centralizado no notebook\n",
    "library(IRdisplay)\n",
    "display_html(sprintf('\n",
    "<div style=\"display: flex; justify-content: center; align-items: center; height: 100vh;\">\n",
    "  <div style=\"text-align:center\">\n",
    "    <img src=\"%s\" width=\"600\">\n",
    "  </div>\n",
    "</div>\n",
    "', caminho))\n"
   ]
  },
  {
   "cell_type": "markdown",
   "id": "30506803-d614-4ec5-b01a-423e90ebb0a5",
   "metadata": {
    "slideshow": {
     "slide_type": "slide"
    }
   },
   "source": [
    "### Exercício 68 \n",
    "\n",
    "Suponha uma variável $W$ que representa o número de links ativos entre 3 disponíveis. Liste o espaço amostral e associe os valores da variável."
   ]
  },
  {
   "cell_type": "code",
   "execution_count": 77,
   "id": "0519dc1a-93fc-4cac-9fa9-dc18fe322568",
   "metadata": {
    "slideshow": {
     "slide_type": "fragment"
    }
   },
   "outputs": [
    {
     "data": {
      "text/html": [
       "\n",
       "<div style=\"display: flex; justify-content: center; align-items: center; height: 100vh;\">\n",
       "<div style=\"text-align:center\">\n",
       "    <img src=\"D:/g_drive/docencia/uff/projetos/probest/jupiter/figs/enlaces_ativos.png\" width=\"600\">\n",
       "  </div>\n",
       "</div>\n"
      ]
     },
     "metadata": {},
     "output_type": "display_data"
    }
   ],
   "source": [
    "# Pacotes necessários\n",
    "library(IRdisplay)\n",
    "\n",
    "# Criar diretório, se necessário\n",
    "dir.create(\"D:/g_drive/docencia/uff/projetos/probest/jupiter/figs\", recursive = TRUE, showWarnings = FALSE)\n",
    "\n",
    "# Caminho do arquivo\n",
    "caminho <- \"D:/g_drive/docencia/uff/projetos/probest/jupiter/figs/enlaces_ativos.png\"\n",
    "\n",
    "# Abrir dispositivo gráfico para salvar\n",
    "png(filename = caminho, width = 700, height = 500)\n",
    "\n",
    "# Valores possíveis da variável Z\n",
    "z <- c(0, 1, 2, 3)\n",
    "\n",
    "# Probabilidades associadas\n",
    "p <- c(1/8, 3/8, 3/8, 1/8)\n",
    "\n",
    "# Gráfico de barras\n",
    "barplot(p, names.arg = z, col = \"steelblue\",\n",
    "        main = \"Distribuição de Probabilidade do Número de Enlaces Ativos\",\n",
    "        xlab = \"Z\", ylab = \"P(Z = z)\",\n",
    "        ylim = c(0, 1))\n",
    "\n",
    "# Fechar dispositivo gráfico\n",
    "invisible(dev.off())\n",
    "\n",
    "# Exibir centralizado no notebook\n",
    "display_html(sprintf('\n",
    "<div style=\"display: flex; justify-content: center; align-items: center; height: 100vh;\">\n",
    "<div style=\"text-align:center\">\n",
    "    <img src=\"%s\" width=\"600\">\n",
    "  </div>\n",
    "</div>\n",
    "', caminho))\n"
   ]
  },
  {
   "cell_type": "markdown",
   "id": "b231f85c-6080-488a-a7ef-38ed119e45c2",
   "metadata": {
    "slideshow": {
     "slide_type": "fragment"
    }
   },
   "source": [
    "### Exercícios 69/70\n",
    "\n",
    "Defina a variável aleatória que representa o número de sucessos em 4 transmissões independentes, cada uma com probabilidade $0{,}8$ de sucesso.  \n",
    "Usando R, gere o gráfico da distribuição de probabilidade da variável definida no exercício.\n",
    "\n",
    "<span style=\"color:blue\">\n",
    "Para a solução deste exercício, primeiro temos que definir alguns termos:\n",
    "</span>\n",
    "\n",
    "- <span style=\"color:blue\">$n = 4$ como número de tentativas</span>  \n",
    "- <span style=\"color:blue\">$\\Omega = \\{0,1,2,3,4\\}$ como o possível número de sucessos</span>  \n",
    "- <span style=\"color:blue\">$p = 0{,}8$ como a probabilidade de sucesso</span>  \n",
    "- <span style=\"color:blue\">$1 - p = 0{,}2$ como a probabilidade de falha</span>  \n",
    "- <span style=\"color:blue\">$k$ representa o número de sucessos</span>\n",
    "\n",
    "<span style=\"color:blue\">\n",
    "Podemos então modelar isso como uma função binomial de ensaios de Bernoulli, ou seja, 4 tentativas com resultados discretos (0 ou 1), onde 0 é falha e 1 é sucesso. A função de probabilidade associada é:\n",
    "</span>\n",
    "\n",
    "<span style=\"color:blue\">\n",
    "$$\n",
    "X \\sim \\text{Bin}(n, p)\n",
    "$$\n",
    "Nota: dizemos que ${X∼Bin(n,p) = Bin(4,0.8)}$. A variável $ X$ segue uma distribuiçao binomial.\n",
    "</span>"
   ]
  },
  {
   "cell_type": "code",
   "execution_count": 76,
   "id": "9b03b359-30aa-4d4a-9a3e-5dbd0cedb0d0",
   "metadata": {
    "slideshow": {
     "slide_type": "fragment"
    }
   },
   "outputs": [
    {
     "data": {
      "text/html": [
       "\n",
       "<div style=\"display: flex; justify-content: center; align-items: center; height: 100vh;\">\n",
       "  <div style=\"text-align:center\">\n",
       "    <img src=\"D:/g_drive/docencia/uff/projetos/probest/jupiter/figs/binomial_n4_p08.png\" width=\"600\">\n",
       "  </div>\n",
       "</div>\n"
      ]
     },
     "metadata": {},
     "output_type": "display_data"
    }
   ],
   "source": [
    "# Pacotes\n",
    "library(IRdisplay)\n",
    "\n",
    "# Criar diretório, se necessário\n",
    "dir.create(\"D:/g_drive/docencia/uff/projetos/probest/jupiter/figs\", recursive = TRUE, showWarnings = FALSE)\n",
    "\n",
    "# Caminho do arquivo\n",
    "caminho <- \"D:/g_drive/docencia/uff/projetos/probest/jupiter/figs/binomial_n4_p08.png\"\n",
    "\n",
    "# Valores de k e parâmetros da binomial\n",
    "k <- 0:4\n",
    "n <- 4\n",
    "p <- 0.8\n",
    "y <- dbinom(k, size = n, prob = p)\n",
    "\n",
    "# Salvar gráfico\n",
    "png(filename = caminho, width = 700, height = 500)\n",
    "barplot(y, names.arg = k, col = \"steelblue\",\n",
    "        main = \"Distribuição Binomial (n = 4, p = 0.8)\",\n",
    "        xlab = \"Número de sucessos (k)\", ylab = \"P(X = k)\",\n",
    "        ylim = c(0, 0.5))\n",
    "invisible(dev.off())\n",
    "\n",
    "# Exibir centralizado no notebook\n",
    "display_html(sprintf('\n",
    "<div style=\"display: flex; justify-content: center; align-items: center; height: 100vh;\">\n",
    "  <div style=\"text-align:center\">\n",
    "    <img src=\"%s\" width=\"600\">\n",
    "  </div>\n",
    "</div>\n",
    "', caminho))\n"
   ]
  },
  {
   "cell_type": "markdown",
   "id": "cd079652-373e-480c-a1cb-e6d24a499595",
   "metadata": {
    "slideshow": {
     "slide_type": "fragment"
    }
   },
   "source": [
    "### Exercícios 71/72\n",
    "\n",
    "Um IDS (sistema de detecção de intrusos) detecta entre 0 e 3 tentativas maliciosas por hora.  \n",
    "As probabilidades são:\n",
    "\n",
    "- $P(0) = 0{,}1$\n",
    "- $P(1) = 0{,}3$\n",
    "- $P(2) = 0{,}4$\n",
    "- $P(3) = 0{,}2$\n",
    "\n",
    "**71.** Modele graficamente.\n"
   ]
  },
  {
   "cell_type": "code",
   "execution_count": 75,
   "id": "8bbaad59-e335-4bae-bd67-9e34251193db",
   "metadata": {
    "slideshow": {
     "slide_type": "fragment"
    }
   },
   "outputs": [
    {
     "data": {
      "text/html": [
       "\n",
       "<div style=\"display: flex; justify-content: center; align-items: center; height: 100vh;\">\n",
       "  <div style=\"text-align:center\">\n",
       "    <img src=\"D:/g_drive/docencia/uff/projetos/probest/jupiter/figs/tentativas_maliciosas.png\" width=\"600\">\n",
       "  </div>\n",
       "</div>\n"
      ]
     },
     "metadata": {},
     "output_type": "display_data"
    }
   ],
   "source": [
    "# Pacotes\n",
    "library(IRdisplay)\n",
    "\n",
    "# Criar diretório, se necessário\n",
    "dir.create(\"D:/g_drive/docencia/uff/projetos/probest/jupiter/figs\", recursive = TRUE, showWarnings = FALSE)\n",
    "\n",
    "# Caminho do arquivo\n",
    "caminho <- \"D:/g_drive/docencia/uff/projetos/probest/jupiter/figs/tentativas_maliciosas.png\"\n",
    "\n",
    "# Valores da variável Z e probabilidades\n",
    "z <- c(0, 1, 2, 3)\n",
    "p <- c(0.1, 0.3, 0.4, 0.2)\n",
    "\n",
    "# Salvar gráfico\n",
    "png(filename = caminho, width = 700, height = 500)\n",
    "barplot(p, names.arg = z, col = \"steelblue\",\n",
    "        main = \"Distribuição de Probabilidade Tentativas Maliciosas\",\n",
    "        xlab = \"Z\", ylab = \"P(Z = z)\",\n",
    "        ylim = c(0, 0.5))\n",
    "invisible(dev.off())\n",
    "\n",
    "# Exibir centralizado no notebook\n",
    "display_html(sprintf('\n",
    "<div style=\"display: flex; justify-content: center; align-items: center; height: 100vh;\">\n",
    "  <div style=\"text-align:center\">\n",
    "    <img src=\"%s\" width=\"600\">\n",
    "  </div>\n",
    "</div>\n",
    "', caminho))\n"
   ]
  },
  {
   "cell_type": "markdown",
   "id": "e1716e74-1283-4dfc-b5a1-fc747b63e63b",
   "metadata": {
    "slideshow": {
     "slide_type": "fragment"
    }
   },
   "source": [
    "### Exercício 73\n",
    "\n",
    "Uma variável aleatória $X$ tem distribuição dada por $P(X = k) = \\dfrac{1}{n}$ para $k = 1, \\dots, n$.  \n",
    "Que nome se dá a essa distribuição?\n",
    "\n",
    "<span style=\"color:blue\">\n",
    "Essa é a **distribuição uniforme discreta**, na qual todos os valores de $k$ têm a **mesma probabilidade**:  \n",
    "$P(X = k) = \\dfrac{1}{n}$, $k \\in \\{1, 2, \\dots, n\\}$.\n",
    "</span>\n"
   ]
  },
  {
   "cell_type": "markdown",
   "id": "a613eb89-f1e6-4fdf-b58d-8c8fb547c4e1",
   "metadata": {
    "slideshow": {
     "slide_type": "fragment"
    }
   },
   "source": [
    "### Exercícios 74/75\n",
    "\n",
    "Um roteador recebe até 5 pacotes por segundo. A variável $X$ conta quantos pacotes chegam.  \n",
    "Dê um exemplo de função de probabilidade que modele esse caso com **viés para números baixos** de pacotes por segundo.\n",
    "\n",
    "<span style=\"color:blue\">\n",
    "Uma função de probabilidade com viés para valores baixos pode ser:\n",
    "\n",
    "$$\n",
    "P(X = k) =\n",
    "\\begin{cases}\n",
    "0{,}30 & \\text{se } k = 0 \\\\\\\\\n",
    "0{,}25 & \\text{se } k = 1 \\\\\\\\\n",
    "0{,}20 & \\text{se } k = 2 \\\\\\\\\n",
    "0{,}15 & \\text{se } k = 3 \\\\\\\\\n",
    "0{,}06 & \\text{se } k = 4 \\\\\\\\\n",
    "0{,}04 & \\text{se } k = 5 \\\\\\\\\n",
    "0       & \\text{caso contrário}\n",
    "\\end{cases}\n",
    "$$\n",
    "</span>\n"
   ]
  },
  {
   "cell_type": "code",
   "execution_count": 74,
   "id": "d240f373-aaf8-45c1-8611-c937bf1e0e1f",
   "metadata": {
    "slideshow": {
     "slide_type": "fragment"
    }
   },
   "outputs": [
    {
     "data": {
      "text/html": [
       "\n",
       "<div style=\"display: flex; justify-content: center; align-items: center; height: 100vh;\">\n",
       "  <div style=\"text-align:center\">\n",
       "    <img src=\"D:/g_drive/docencia/uff/projetos/probest/jupiter/figs/vies_pacotes_baixos.png\" width=\"600\">\n",
       "  </div>\n",
       "</div>\n"
      ]
     },
     "metadata": {},
     "output_type": "display_data"
    }
   ],
   "source": [
    "# Pacotes\n",
    "library(IRdisplay)\n",
    "\n",
    "# Criar diretório, se necessário\n",
    "dir.create(\"D:/g_drive/docencia/uff/projetos/probest/jupiter/figs\", recursive = TRUE, showWarnings = FALSE)\n",
    "\n",
    "# Caminho do arquivo\n",
    "caminho <- \"D:/g_drive/docencia/uff/projetos/probest/jupiter/figs/vies_pacotes_baixos.png\"\n",
    "\n",
    "# Valores e probabilidades\n",
    "k <- 0:5\n",
    "p <- c(0.30, 0.25, 0.20, 0.15, 0.06, 0.04)\n",
    "\n",
    "# Salvar imagem\n",
    "png(filename = caminho, width = 700, height = 500)\n",
    "barplot(p, names.arg = k, col = \"steelblue\",\n",
    "        main = \"Distribuição com viés para pacotes baixos\",\n",
    "        xlab = \"Número de pacotes por segundo (k)\",\n",
    "        ylab = \"P(X = k)\",\n",
    "        ylim = c(0, 0.35))\n",
    "invisible(dev.off())\n",
    "\n",
    "# Exibir centralizado no notebook\n",
    "display_html(sprintf('\n",
    "<div style=\"display: flex; justify-content: center; align-items: center; height: 100vh;\">\n",
    "  <div style=\"text-align:center\">\n",
    "    <img src=\"%s\" width=\"600\">\n",
    "  </div>\n",
    "</div>\n",
    "', caminho))\n"
   ]
  },
  {
   "cell_type": "markdown",
   "id": "3f49c7df-27de-4121-b837-d115393838f4",
   "metadata": {
    "slideshow": {
     "slide_type": "fragment"
    }
   },
   "source": [
    "### Exercício 76/77\n",
    "\n",
    "Uma variável $X$ representa o número de falhas em 4 enlaces.  \n",
    "Cada enlace pode falhar com probabilidade $0{,}2$.  \n",
    "Defina a distribuição e justifique. $k = 0,1,2,3$\n",
    "\n",
    "<span style=\"color:blue\">\n",
    "Para a solução deste exercício, primeiro temos que definir alguns termos:\n",
    "</span>\n",
    "\n",
    "- <span style=\"color:blue\">$n = 4$ como número de tentativas (enlaces)</span>  \n",
    "- <span style=\"color:blue\">$\\Omega = \\{0,1,2,3\\}$ como o possível número de falhas observadas</span>  \n",
    "- <span style=\"color:blue\">$p = 0{,}2$ como a probabilidade de falha em um enlace</span>  \n",
    "- <span style=\"color:blue\">$1 - p = 0{,}8$ como a probabilidade de sucesso (não falha)</span>  \n",
    "- <span style=\"color:blue\">$k$ representa o número de falhas observadas entre os 4 enlaces</span>\n",
    "\n",
    "<span style=\"color:blue\">\n",
    "Podemos então modelar isso como uma distribuição binomial de ensaios de Bernoulli,  \n",
    "ou seja, 4 enlaces independentes com resultados discretos: 0 (sem falha) ou 1 (falha).\n",
    "</span>\n",
    "\n",
    "<span style=\"color:blue\">\n",
    "A função de probabilidade é:\n",
    "</span>\n",
    "\n",
    "<span style=\"color:blue\">\n",
    "$$\n",
    "X \\sim \\text{Bin}(n, p)\n",
    "$$\n",
    "\n",
    "$$\n",
    "P(X = k) = \\binom{n}{k} \\cdot p^k \\cdot (1 - p)^{n - k}, \\quad k = 0,1,2,3\n",
    "$$\n",
    "\n",
    "$$\n",
    "\\Longrightarrow P(X = k) = \\binom{4}{k} \\cdot 0{,}2^k \\cdot 0{,}8^{4 - k}, \\quad k = 0,1,2,3\n",
    "$$\n",
    "</span>\n",
    "\n",
    "<span style=\"color:blue\">\n",
    "Nota: dizemos que $X \\sim \\text{Bin}(4,\\ 0{,}2)$, ou seja, a variável $X$ segue uma distribuição binomial. em seguida o gráfico.\n",
    "</span>\n"
   ]
  },
  {
   "cell_type": "code",
   "execution_count": 71,
   "id": "db1f0269-7eee-4131-ae83-f826c41b6b50",
   "metadata": {
    "slideshow": {
     "slide_type": "fragment"
    }
   },
   "outputs": [
    {
     "data": {
      "text/html": [
       "\n",
       "<div style=\"display: flex; justify-content: center; align-items: center; height: 100vh;\">  \n",
       "<div style=\"text-align:center\">\n",
       "    <img src=\"D:/g_drive/docencia/uff/projetos/probest/jupiter/figs/binomial_falhas_enlaces.png\" width=\"600\">\n",
       "  </div>\n",
       "</div>\n"
      ]
     },
     "metadata": {},
     "output_type": "display_data"
    }
   ],
   "source": [
    "# Pacotes\n",
    "library(IRdisplay)\n",
    "\n",
    "# Criar diretório se necessário\n",
    "dir.create(\"D:/g_drive/docencia/uff/projetos/probest/jupiter/figs\", recursive = TRUE, showWarnings = FALSE)\n",
    "\n",
    "# Caminho do arquivo\n",
    "caminho <- \"D:/g_drive/docencia/uff/projetos/probest/jupiter/figs/binomial_falhas_enlaces.png\"\n",
    "\n",
    "# Parâmetros da binomial\n",
    "n <- 4\n",
    "p <- 0.2\n",
    "k <- 0:n\n",
    "prob <- dbinom(k, size = n, prob = p)\n",
    "\n",
    "# Salvar gráfico\n",
    "png(filename = caminho, width = 700, height = 500)\n",
    "barplot(prob,\n",
    "        names.arg = k,\n",
    "        col = \"steelblue\",\n",
    "        main = \"Distribuição Binomial B(4, 0.2)\",\n",
    "        xlab = \"Número de falhas (X)\",\n",
    "        ylab = \"P(X = k)\",\n",
    "        ylim = c(0, max(prob) + 0.1))\n",
    "invisible(dev.off())\n",
    "\n",
    "# Exibir centralizado no notebook\n",
    "display_html(sprintf('\n",
    "<div style=\"display: flex; justify-content: center; align-items: center; height: 100vh;\">  \n",
    "<div style=\"text-align:center\">\n",
    "    <img src=\"%s\" width=\"600\">\n",
    "  </div>\n",
    "</div>\n",
    "', caminho))\n"
   ]
  },
  {
   "cell_type": "markdown",
   "id": "889b3578-b0e9-49a6-bb6c-e9588a157cb0",
   "metadata": {
    "slideshow": {
     "slide_type": "fragment"
    }
   },
   "source": [
    "<div style=\"font-size:18px\">\n",
    "\n",
    "**Exercício 78 – Distribuição Binomial: Limites de $p$**\n",
    "\n",
    "---\n",
    "\n",
    "**Quando $p \\rightarrow 0$:**\n",
    "\n",
    "- A distribuição se concentra em $X = 0$  \n",
    "- A maioria das amostras terá zero sucessos  \n",
    "- O gráfico exibe um pico acentuado em $X = 0$\n",
    "\n",
    "---\n",
    "\n",
    "**Quando $p \\rightarrow 1$:**\n",
    "\n",
    "- A distribuição se concentra em $X = n$  \n",
    "- Quase todas as amostras terão sucesso  \n",
    "- O gráfico mostra um pico acentuado em $X = n$\n",
    "\n",
    "</div>\n"
   ]
  },
  {
   "cell_type": "code",
   "execution_count": 69,
   "id": "afc95c0e",
   "metadata": {
    "slideshow": {
     "slide_type": "fragment"
    }
   },
   "outputs": [
    {
     "data": {
      "text/html": [
       "\n",
       "<div style=\"display: flex; justify-content: center; align-items: center; height: 100vh;\">\n",
       "  <div style=\"text-align:center\">\n",
       "    <img src=\"binomial_p0_p1.png\" width=\"900\">\n",
       "  </div>\n",
       "</div>\n"
      ]
     },
     "metadata": {},
     "output_type": "display_data"
    }
   ],
   "source": [
    "# Criar e salvar os dois gráficos lado a lado no diretório atual (para exibição no notebook)\n",
    "png(\"binomial_p0_p1.png\", width = 800, height = 400)\n",
    "par(mfrow = c(1, 2))\n",
    "\n",
    "# Valores\n",
    "k <- 0:4\n",
    "n <- 4\n",
    "\n",
    "p1 <- dbinom(k, size = n, prob = 0.01)\n",
    "p2 <- dbinom(k, size = n, prob = 0.99)\n",
    "\n",
    "barplot(p1, names.arg = k, col = \"tomato\",\n",
    "        main = \"p -> 0\", xlab = \"X\", ylab = \"P(X=k)\", ylim = c(0,1))\n",
    "\n",
    "barplot(p2, names.arg = k, col = \"steelblue\",\n",
    "        main = \"p -> 1\", xlab = \"X\", ylab = \"P(X=k)\", ylim = c(0,1))\n",
    "invisible(dev.off())\n",
    "\n",
    "# Copiar a figura para o diretório externo\n",
    "invisible(file.copy(\"binomial_p0_p1.png\",\n",
    "          to = \"D:/g_drive/docencia/uff/projetos/probest/jupiter/figs/binomial_p0_p1.png\",\n",
    "          overwrite = TRUE))\n",
    "\n",
    "# Exibir centralizado no notebook\n",
    "library(IRdisplay)\n",
    "display_html('\n",
    "<div style=\"display: flex; justify-content: center; align-items: center; height: 100vh;\">\n",
    "  <div style=\"text-align:center\">\n",
    "    <img src=\"binomial_p0_p1.png\" width=\"900\">\n",
    "  </div>\n",
    "</div>\n",
    "')\n"
   ]
  },
  {
   "cell_type": "markdown",
   "id": "bebc431a",
   "metadata": {
    "slideshow": {
     "slide_type": "fragment"
    }
   },
   "source": [
    "<div style=\"font-size:18px\">\n",
    "    \n",
    " **Exercício 79 – Modelagem com Binomial e Animação**\n",
    "\n",
    "Em um sistema de autenticação, a variável aleatória \\( X \\) representa o número de logins bem-sucedidos em 3 tentativas.\n",
    "\n",
    "Modelamos com:\n",
    "<span style=\"color:blue\">\n",
    "$ X \\sim \\text{Bin}(3, p),\n",
    "\\qquad\n",
    "P(X = k) = \\binom{3}{k}p^k (1-p)^{3-k}, \\quad k = 0,1,2,3$$\n",
    "</span>\n",
    "\n",
    "<span style=\"color:blue\">\n",
    "Abaixo, uma animação com a variação de $ p \\in \\{0.1, 0.2, ..., 1.0\\} $.\n",
    "</span>\n",
    "</div>"
   ]
  },
  {
   "cell_type": "code",
   "execution_count": 67,
   "id": "59ebe14f",
   "metadata": {
    "slideshow": {
     "slide_type": "fragment"
    },
    "vscode": {
     "languageId": "r"
    }
   },
   "outputs": [
    {
     "data": {
      "text/html": [
       "\n",
       "<div style=\"display: flex; justify-content: center; align-items: center; height: 100vh;\">\n",
       "  <img src=\"data:image/gif;base64,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\" width=\"600\">\n",
       "</div>\n"
      ]
     },
     "metadata": {},
     "output_type": "display_data"
    }
   ],
   "source": [
    "# Instale os pacotes se necessário\n",
    "# install.packages(\"animation\")\n",
    "# install.packages(\"base64enc\")\n",
    "# install.packages(\"IRdisplay\")\n",
    "\n",
    "library(animation)\n",
    "library(base64enc)\n",
    "library(IRdisplay)\n",
    "\n",
    "# Número de tentativas\n",
    "n <- 3\n",
    "k <- 0:n\n",
    "\n",
    "# Função para plotar a distribuição binomial\n",
    "binom_plot <- function(p) {\n",
    "  y <- dbinom(k, size = n, prob = p)\n",
    "  barplot(y,\n",
    "          names.arg = k,\n",
    "          col = \"steelblue\",\n",
    "          ylim = c(0, 1),\n",
    "          main = paste(\"Distribuição Binomial - n =\", n, \", p =\", round(p, 1)),\n",
    "          xlab = \"Número de sucessos (k)\",\n",
    "          ylab = \"P(X = k)\")\n",
    "}\n",
    "\n",
    "# Caminho do arquivo GIF\n",
    "gif_path <- \"D:/g_drive/docencia/uff/projetos/probest/jupiter/figs/binomial_animation.gif\"\n",
    "\n",
    "# Suprimir todas as saídas do saveGIF\n",
    "invisible({\n",
    "  sink(tempfile())  # Redireciona saída padrão\n",
    "  try(\n",
    "    suppressMessages(suppressWarnings(\n",
    "      saveGIF({\n",
    "        for (p in seq(0.1, 1, by = 0.1)) {\n",
    "          binom_plot(p)\n",
    "        }\n",
    "      }, movie.name = gif_path,\n",
    "         interval = 0.8, ani.width = 600, ani.height = 400)\n",
    "    )),\n",
    "    silent = TRUE\n",
    "  )\n",
    "  sink()  # Restaura a saída padrão\n",
    "})\n",
    "\n",
    "# Codificar o GIF como base64 (silencioso)\n",
    "invisible(gif_b64 <- dataURI(file = gif_path, mime = \"image/gif\"))\n",
    "\n",
    "# Exibir centralizado no notebook (horizontal e vertical)\n",
    "display_html(sprintf('\n",
    "<div style=\"display: flex; justify-content: center; align-items: center; height: 100vh;\">\n",
    "  <img src=\"%s\" width=\"600\">\n",
    "</div>\n",
    "', gif_b64))\n"
   ]
  },
  {
   "cell_type": "markdown",
   "id": "5ec46f30-6d9d-48a3-9f5b-f7b80e225fda",
   "metadata": {
    "slideshow": {
     "slide_type": "slide"
    }
   },
   "source": [
    "### Exercício 81\n",
    "\n",
    "Qual a variância da variável definida no exercício 80?\n",
    "\n",
    "<span style=\"color:blue\">\n",
    "A fórmula da variância populacional é geral e vale para qualquer distribuição discreta finita:\n",
    "</span>\n",
    "\n",
    "<span style=\"color:blue\">\n",
    "$$\n",
    "\\mathrm{Var}(X) = \\frac{1}{n} \\sum_{i=1}^{n} (x_i - \\mu)^2\n",
    "$$\n",
    "</span>\n",
    "\n",
    "<span style=\"color:blue\">\n",
    "No caso particular da distribuição uniforme discreta sobre valores consecutivos  \n",
    "$\\{1,\\ 2,\\ \\dots,\\ k\\}$, existe uma forma fechada para a variância:\n",
    "</span>\n",
    "\n",
    "<span style=\"color:blue\">\n",
    "$$\n",
    "\\mathrm{Var}(X) = \\frac{k^2 - 1}{12}\n",
    "$$\n",
    "</span>\n",
    "\n",
    "<span style=\"color:blue\">\n",
    "No exercício anterior, $k = 5$, então:\n",
    "</span>\n",
    "\n",
    "<span style=\"color:blue\">\n",
    "$$\n",
    "\\mathrm{Var}(X) = \\frac{5^2 - 1}{12} = \\frac{24}{12} = 2\n",
    "$$\n",
    "</span>\n"
   ]
  },
  {
   "cell_type": "markdown",
   "id": "f272e603-57cf-4a8a-8a75-b90c294ea3f7",
   "metadata": {
    "slideshow": {
     "slide_type": "fragment"
    }
   },
   "source": [
    "### Exercícios 82/83/84\n",
    "\n",
    "Se uma variável $X$ assume os valores $1$, $2$, $3$ com probabilidades $0{,}2$, $0{,}5$, $0{,}3$, calcule o valor esperado $E[X]$ e $\\mathrm{Var}(X)$.\n",
    "\n",
    "<span style=\"color:blue\">O valor esperado $E[X]$ de uma variável aleatória discreta é calculado como uma média ponderada dos seus possíveis valores.</span>  \n",
    "<span style=\"color:blue\">A fórmula é:</span>  \n",
    "\n",
    "<span style=\"color:blue\">$$E[X] = \\sum_k k \\cdot P(X = k)$$</span>\n",
    "\n",
    "<span style=\"color:blue\">Ou seja, cada valor $k$ que a variável pode assumir é ponderado pela sua probabilidade $P(X = k)$, e todos esses produtos são somados.</span>  \n",
    "<span style=\"color:blue\">Essa definição é válida para qualquer variável aleatória discreta.</span>\n",
    "\n",
    "<span style=\"color:blue\">Por exemplo, se $X$ assume os valores $1$, $2$ e $3$ com probabilidades $0{,}2$, $0{,}5$ e $0{,}3$, então:</span>\n",
    "\n",
    "<span style=\"color:blue\">$$E[X] = 1 \\cdot 0{,}2 + 2 \\cdot 0{,}5 + 3 \\cdot 0{,}3 = 2{,}1$$</span>\n",
    "\n",
    "<span style=\"color:blue\">O valor esperado representa, nesse caso, o “centro de massa” da distribuição. Ver gráfico ao lado</span>\n",
    "\n",
    "<span style=\"color:blue\">Para a variância, usamos a fórmula:</span>  \n",
    "<span style=\"color:blue\">$$\\mathrm{Var}(X) = \\sum_k \\left(k - \\mu \\right)^2 \\cdot P(X = k)$$</span>\n",
    "\n",
    "<span style=\"color:blue\">Com $\\mu = E[X] = 2{,}1$, temos:</span>  \n",
    "<span style=\"color:blue\">$$\\mathrm{Var}(X) = (1 - 2{,}1)^2 \\cdot 0{,}2 + (2 - 2{,}1)^2 \\cdot 0{,}5 + (3 - 2{,}1)^2 \\cdot 0{,}3 = 0{,}49$$</span>\n"
   ]
  },
  {
   "cell_type": "code",
   "execution_count": 60,
   "id": "42f286be-d458-4496-8312-9c7714743f64",
   "metadata": {
    "scrolled": true,
    "slideshow": {
     "slide_type": "fragment"
    }
   },
   "outputs": [
    {
     "data": {
      "text/html": [
       "\n",
       "<div style=\"display: flex; justify-content: center; align-items: center; height: 100vh;\">\n",
       "  <img src=\"valor_esperado_pop.png\" width=\"700\">\n",
       "</div>\n"
      ]
     },
     "metadata": {},
     "output_type": "display_data"
    }
   ],
   "source": [
    "# Dados da população\n",
    "x <- 1:3\n",
    "p <- c(0.2, 0.5, 0.3)\n",
    "\n",
    "# Valor esperado (centro de massa)\n",
    "E_X <- sum(x * p)\n",
    "\n",
    "# Variância populacional (com divisor n)\n",
    "var_pop <- sum((x - E_X)^2 * p)\n",
    "#invisible(cat(sprintf(\"Var(X) = %.4f\\n\", var_pop)))  # Esperado: 0.49\n",
    "\n",
    "# Caminhos de salvamento\n",
    "local_path <- \"valor_esperado_pop.png\"\n",
    "final_path <- \"D:/g_drive/docencia/uff/projetos/probest/jupiter/figs/valor_esperado_pop.png\"\n",
    "\n",
    "# Salvar figura\n",
    "png(local_path, width = 700, height = 400)\n",
    "\n",
    "# Gráfico de barras\n",
    "barplot(p, names.arg = x, col = \"steelblue\",\n",
    "        main = \"Centro de Massa (Valor Esperado)\",\n",
    "        xlab = \"X\", ylab = \"P(X = x)\", ylim = c(0, max(p) + 0.1))\n",
    "\n",
    "# Adicionar linha e texto do valor esperado\n",
    "arrows(x0 = E_X, y0 = max(p) + 0.05,\n",
    "       x1 = E_X, y1 = 0, col = \"red\", lwd = 2, lty = 2)\n",
    "text(E_X, max(p) + 0.08, labels = sprintf(\"E[X] = %.2f\", E_X),\n",
    "     col = \"red\", cex = 0.9)\n",
    "\n",
    "invisible(dev.off())  # Fecha o dispositivo gráfico\n",
    "\n",
    "# Copiar imagem para pasta final\n",
    "invisible(file.copy(local_path, final_path, overwrite = TRUE))\n",
    "\n",
    "# Exibir centralizado no notebook\n",
    "library(IRdisplay)\n",
    "display_html(sprintf('\n",
    "<div style=\"display: flex; justify-content: center; align-items: center; height: 100vh;\">\n",
    "  <img src=\"%s\" width=\"700\">\n",
    "</div>\n",
    "', local_path))\n"
   ]
  },
  {
   "cell_type": "markdown",
   "id": "8902ed4b-64ef-47d6-8c3d-1c7d51bd2c6a",
   "metadata": {
    "slideshow": {
     "slide_type": "fragment"
    }
   },
   "source": [
    "### Exercício 85\n",
    "\n",
    "Uma variável aleatória $X$ representa o número de retransmissões em uma transmissão com no máximo 2 tentativas.  \n",
    "Liste os valores possíveis e proponha uma função de probabilidade.\n",
    "\n",
    "<span style=\"color:blue\">$X \\sim \\text{Bin}(2,\\ p)$</span>  \n",
    "<span style=\"color:blue\">$P(X = k) = \\binom{2}{k} \\cdot p^k \\cdot (1 - p)^{2 - k}, \\quad k = 0,1,2$</span>\n",
    "\n",
    "---\n",
    "\n",
    "### Exercício 86\n",
    "\n",
    "Modele graficamente a distribuição do exercício 85 para diferentes taxas de sucesso.  \n",
    "<span style=\"color:blue\">Variações em $p$ afetam a forma da distribuição binomial: valores mais altos de $p$ deslocam a massa para $k = 2$, enquanto valores baixos concentram em $k = 0$.</span>\n",
    "\n",
    "---\n",
    "\n",
    "### Exercício 87/88\n",
    "\n",
    "Um analisador de pacotes classifica conexões como normal ($0$) ou anômala ($1$) com probabilidade $0{,}95$ e $0{,}05$ respectivamente.  \n",
    "Represente essa variável e sua distribuição.  \n",
    "Mostre como o gráfico da distribuição de $X$ se altera se a taxa de anomalias aumentar para $0{,}20$.\n",
    "\n",
    "<span style=\"color:blue\">Há múltiplos cenários possíveis de modelagem:</span>\n",
    "\n",
    "- <span style=\"color:blue\">1. Se detectar anomalia for considerado sucesso: $X \\sim \\text{Bern}(0{,}05)$</span>  \n",
    "- <span style=\"color:blue\">2. Se detectar conexão normal for sucesso: $X \\sim \\text{Bern}(0{,}95)$</span>  \n",
    "- <span style=\"color:blue\">3. Se cada tentativa visa detectar anomalia entre $n$ conexões: $X \\sim \\text{Bin}(n, 0{,}05)$</span>  \n",
    "- <span style=\"color:blue\">4. Se normal for o evento de interesse em $n$ conexões: $X \\sim \\text{Bin}(n, 0{,}95)$</span>\n",
    "\n",
    "<span style=\"color:blue\">Com o aumento da taxa de anomalias para $0{,}20$, o valor de $p$ muda nos modelos 1 e 3, o que desloca a massa da distribuição para valores maiores de $X$.</span>\n"
   ]
  },
  {
   "cell_type": "code",
   "execution_count": 52,
   "id": "399eb606-ba10-4ea0-b64d-94289d1d35e6",
   "metadata": {
    "scrolled": true,
    "slideshow": {
     "slide_type": "fragment"
    }
   },
   "outputs": [
    {
     "data": {
      "text/html": [
       "\n",
       "<div style=\"display: flex; flex-direction: column; justify-content: center; align-items: center; height: 100vh;\">\n",
       "  <div style=\"text-align:center\">\n",
       "    <img src=\"bernoulli_comparativo.png\" width=\"700\">\n",
       "  </div>\n",
       "</div>\n"
      ]
     },
     "metadata": {},
     "output_type": "display_data"
    }
   ],
   "source": [
    "# Criar e salvar os dois gráficos lado a lado no diretório atual\n",
    "png(\"bernoulli_comparativo.png\", width = 800, height = 400)\n",
    "par(mfrow = c(1, 2))\n",
    "\n",
    "# Valores possíveis de X\n",
    "x <- c(0, 1)\n",
    "\n",
    "# Probabilidades para p = 0.05\n",
    "p1 <- c(0.95, 0.05)\n",
    "\n",
    "# Probabilidades para p = 0.20\n",
    "p2 <- c(0.80, 0.20)\n",
    "\n",
    "# Primeiro gráfico\n",
    "barplot(p1, names.arg = x, col = \"steelblue\",\n",
    "        main = \"Bernoulli(p = 0.05)\", xlab = \"X\", ylab = \"P(X)\",\n",
    "        ylim = c(0, 1))\n",
    "\n",
    "# Segundo gráfico\n",
    "barplot(p2, names.arg = x, col = \"tomato\",\n",
    "        main = \"Bernoulli(p = 0.20)\", xlab = \"X\", ylab = \"P(X)\",\n",
    "        ylim = c(0, 1))\n",
    "invisible(dev.off())\n",
    "\n",
    "# Copiar para diretório externo\n",
    "invisible(file.copy(\"bernoulli_comparativo.png\",\n",
    "          to = \"D:/g_drive/docencia/uff/projetos/probest/jupiter/figs/bernoulli_comparativo.png\",\n",
    "          overwrite = TRUE))\n",
    "\n",
    "# Exibir centralizado no notebook\n",
    "library(IRdisplay)\n",
    "display_html('\n",
    "<div style=\"display: flex; flex-direction: column; justify-content: center; align-items: center; height: 100vh;\">\n",
    "  <div style=\"text-align:center\">\n",
    "    <img src=\"bernoulli_comparativo.png\" width=\"700\">\n",
    "  </div>\n",
    "</div>\n",
    "')\n"
   ]
  },
  {
   "cell_type": "markdown",
   "id": "5ed8d248-47e0-4318-92a5-a0ff1ab7af68",
   "metadata": {
    "slideshow": {
     "slide_type": "fragment"
    }
   },
   "source": [
    "### Exercício 89\n",
    "\n",
    "Um sistema de backup realiza entre $0$ e $3$ tentativas por hora. Calcule a esperança e compare graficamente duas distribuições discretas com mesma média mas variâncias diferentes  \n",
    "Suponha que:\n",
    "\n",
    "- $P(0) = 0.5$\n",
    "- $P(1) = 0.3$\n",
    "- $P(2) = 0.15$\n",
    "- $P(3) = 0.05$\n",
    "\n",
    "<span style=\"color:blue\">\n",
    "Para calcular o valor esperado $E[X]$, usamos a fórmula:\n",
    "</span>\n",
    "\n",
    "<span style=\"color:blue\">\n",
    "$$\n",
    "E[X] = \\sum_{k=0}^{3} k \\cdot P(X = k)\n",
    "$$\n",
    "</span>\n",
    "\n",
    "<span style=\"color:blue\">\n",
    "Substituindo os valores:\n",
    "</span>\n",
    "\n",
    "<span style=\"color:blue\">\n",
    "$$\n",
    "E[X] = 0 \\cdot 0.5 + 1 \\cdot 0.3 + 2 \\cdot 0.15 + 3 \\cdot 0.05 = 0 + 0.3 + 0.3 + 0.15 = 0.75\n",
    "$$\n",
    "</span>\n",
    "\n",
    "<span style=\"color:blue\">\n",
    "Logo, $E[X] = 0.75$\n",
    "</span>\n"
   ]
  },
  {
   "cell_type": "code",
   "execution_count": 33,
   "id": "582199ac-415c-4a7a-ad76-2bc8af76e595",
   "metadata": {
    "slideshow": {
     "slide_type": "fragment"
    }
   },
   "outputs": [
    {
     "data": {
      "text/html": [
       "\n",
       "<div style=\"display: flex; flex-direction: column; justify-content: center; align-items: center; height: 100vh;\">\n",
       "  <div style=\"text-align:center\">\n",
       "    <img src=\"comparacao_dispersao.png\" width=\"1000\">\n",
       "  </div>\n",
       "</div>\n"
      ]
     },
     "metadata": {},
     "output_type": "display_data"
    }
   ],
   "source": [
    "# Carregar biblioteca\n",
    "library(IRdisplay)\n",
    "\n",
    "# Intervalo para X\n",
    "k_full <- 0:50\n",
    "k_a <- 0:20\n",
    "\n",
    "# Distribuições com mesma média, mas variâncias diferentes\n",
    "p_A <- dbinom(k_a, size = 20, prob = 0.5)       # Menor variância\n",
    "p_B <- dbinom(k_full, size = 200, prob = 0.05)  # Maior variância\n",
    "\n",
    "# Salvar figura como PNG\n",
    "png(\"comparacao_dispersao.png\", width = 900, height = 400)\n",
    "par(mfrow = c(1, 2))\n",
    "\n",
    "barplot(p_A, names.arg = k_a, col = \"steelblue\",\n",
    "        main = \"Bin(20, 0.5) - Menor dispersão\",\n",
    "        ylab = \"P(X = k)\", xlab = \"k\", ylim = c(0, max(p_A, p_B)))\n",
    "\n",
    "barplot(p_B, names.arg = k_full, col = \"tomato\",\n",
    "        main = \"Bin(200, 0.05) - Maior dispersão\",\n",
    "        ylab = \"P(X = k)\", xlab = \"k\", ylim = c(0, max(p_A, p_B)))\n",
    "\n",
    "\n",
    "\n",
    "# Copiar imagem para pasta de destino\n",
    "invisible(file.copy(\"comparacao_dispersao.png\",\n",
    "          to = \"D:/g_drive/docencia/uff/projetos/probest/jupiter/figs/comparacao_dispersao.png\",\n",
    "          overwrite = TRUE))\n",
    "invisible(dev.off())\n",
    "# Exibir centralizada no notebook\n",
    "invisible(display_html('\n",
    "<div style=\"display: flex; flex-direction: column; justify-content: center; align-items: center; height: 100vh;\">\n",
    "  <div style=\"text-align:center\">\n",
    "    <img src=\"comparacao_dispersao.png\" width=\"1000\">\n",
    "  </div>\n",
    "</div>\n",
    "')\n",
    ")\n"
   ]
  },
  {
   "cell_type": "markdown",
   "id": "eb40466c-6721-4333-bedc-07430a903552",
   "metadata": {
    "slideshow": {
     "slide_type": "slide"
    }
   },
   "source": [
    "### Exercício 91\n",
    "\n",
    "Um sistema realiza 4 testes com probabilidade $0{,}9$ de sucesso em cada.  \n",
    "Defina a variável número de falhas e modele sua distribuição.\n",
    "\n",
    "<span style=\"color:blue\">\n",
    "$X \\sim \\text{Bin}(4,\\ 0{,}1)$  \n",
    "$P(X = k) = \\binom{4}{k} \\cdot 0{,}1^k \\cdot (0{,}9)^{4 - k}, \\quad k = 0,1,2,3,4$\n",
    "</span>\n",
    "\n",
    "---\n",
    "\n",
    "### Exercício 92\n",
    "\n",
    "Qual a esperança e variância da variável do exercício 91?\n",
    "\n",
    "<span style=\"color:blue\">\n",
    "$X_A \\sim \\text{Bin}(4,\\ 0{,}1)$ com variância populacional:  \n",
    "$\\mathrm{Var}(X_A) = n \\cdot p \\cdot (1 - p) = 4 \\cdot 0{,}1 \\cdot (1 - 0{,}1) = 0{,}36$\n",
    "</span>\n",
    "\n",
    "---\n",
    "\n",
    "### Exercício 93\n",
    "\n",
    "Um sistema tolera no máximo 1 falha entre 3 enlaces. Modele a distribuição do número de falhas e desenhe seu gráfico.  \n",
    "Vamos reescrever este problema.  \n",
    "Um dado sistema $S$ continua funcionando se ocorrerem 0 ou 1 falha, então estamos interessados em estimar a probabilidade dos casos:\n",
    "\n",
    "<span style=\"color:blue\">$P(X \\leq 1) = P(X = 0) + P(X = 1)$</span>\n",
    "\n",
    "<span style=\"color:blue\">Mais ainda, na distribuição binomial </span>\n",
    "\n",
    "<span style=\"color:blue\">$|\\Omega| = n+1 \\Rightarrow \\Omega =\\{\\emptyset, L_1, L_2, L_3\\} \\Rightarrow n = 3$</span>  \n",
    "\n",
    "<span style=\"color:blue\">Então a distribuição pode ser representada por $X_A \\sim \\text{Bin}(3, p)$, assim:  </span>\n",
    "<span style=\"color:blue\">$P(X = k) = \\binom{3}{k} \\cdot p^k \\cdot (1 - p)^{3 - k}, \\quad k = 0,1,2,3$</span>\n",
    "\n",
    "\n",
    "---\n",
    "\n",
    "### Exercício 94\n",
    "\n",
    "Um firewall bloqueia pacotes com probabilidade $0.1$.  Para 5 pacotes, modele a variável que conta quantos são bloqueados.\n",
    "\n",
    "<span style=\"color:blue\">\n",
    "Neste caso, $\\Omega = \\{0,1,2,3,4,5\\} \\Rightarrow |\\Omega| = n+1 = 6 \\Rightarrow n = 5$. Assim:  \n",
    "$P(X = k) = \\binom{5}{k} \\cdot 0{,}1^k \\cdot (0{,}9)^{5 - k}, \\quad k = 0,1,2,3,4,5$\n",
    "</span>\n",
    "\n",
    "---\n",
    "\n",
    "### Exercício 95\n",
    "\n",
    "Gere a função de probabilidade do exercício 94 no R e interprete.\n",
    "\n",
    "<span style=\"color:blue\">\n",
    "A maior barra está em $k=0$, indicando que o evento mais provável é nenhum pacote ser bloqueado, com probabilidade próxima a 60%, isso de deve a baixa probabilidade de bloqueio (0.1). A cauda longa e a assimetria a esquerda são características de distribuições binomiais com probabilidades se aproximando de 0.\n",
    "</span>\n"
   ]
  },
  {
   "cell_type": "code",
   "execution_count": 38,
   "id": "8a06ab04-df44-479f-a899-961dd00723c1",
   "metadata": {
    "slideshow": {
     "slide_type": "fragment"
    }
   },
   "outputs": [
    {
     "data": {
      "text/html": [
       "\n",
       "<div style=\"display: flex; flex-direction: column; justify-content: center; align-items: center; height: 100vh;\">\n",
       "  <div style=\"text-align:center\">\n",
       "    <img src=\"binomial_pacotes_bloqueados.png\" width=\"600\">\n",
       "    <div style=\"margin-top:8px; font-size:90%; color:#555;\">\n",
       "      Figura 1: A maior barra está em $k=0$, indicando que o evento mais provável é nenhum pacote ser bloqueado, com probabilidade próxima a 60%. Isso se deve à baixa probabilidade de bloqueio ($p=0{,}1$). A cauda longa e a assimetria à esquerda são características de distribuições binomiais com probabilidades próximas de zero.\n",
       "    </div>\n",
       "  </div>\n",
       "</div>\n"
      ]
     },
     "metadata": {},
     "output_type": "display_data"
    }
   ],
   "source": [
    "# Parâmetros\n",
    "n <- 5\n",
    "p <- 0.1\n",
    "k <- 0:n\n",
    "\n",
    "# Probabilidades da distribuição binomial\n",
    "y <- dbinom(k, size = n, prob = p)\n",
    "\n",
    "# Salvar figura como PNG\n",
    "png(\"binomial_pacotes_bloqueados.png\", width = 600, height = 400)\n",
    "\n",
    "# Gráfico\n",
    "barplot(y, names.arg = k, col = \"steelblue\",\n",
    "        main = \"Distribuição Binomial (n = 5, p = 0.1)\",\n",
    "        xlab = \"Número de pacotes bloqueados (k)\",\n",
    "        ylab = \"P(X = k)\",\n",
    "        ylim = c(0, max(y) + 0.05))\n",
    "\n",
    "invisible(dev.off())\n",
    "\n",
    "# Copiar para diretório externo, se necessário\n",
    "invisible(file.copy(\"binomial_pacotes_bloqueados.png\",\n",
    "          to = \"D:/g_drive/docencia/uff/projetos/probest/jupiter/figs/binomial_pacotes_bloqueados.png\",\n",
    "          overwrite = TRUE))\n",
    "\n",
    "# Exibir centralizado no notebook\n",
    "library(IRdisplay)\n",
    "display_html('\n",
    "<div style=\"display: flex; flex-direction: column; justify-content: center; align-items: center; height: 100vh;\">\n",
    "  <div style=\"text-align:center\">\n",
    "    <img src=\"binomial_pacotes_bloqueados.png\" width=\"600\">\n",
    "    <div style=\"margin-top:8px; font-size:90%; color:#555;\">\n",
    "      Figura 1: A maior barra está em $k=0$, indicando que o evento mais provável é nenhum pacote ser bloqueado, com probabilidade próxima a 60%. Isso se deve à baixa probabilidade de bloqueio ($p=0{,}1$). A cauda longa e a assimetria à esquerda são características de distribuições binomiais com probabilidades próximas de zero.\n",
    "    </div>\n",
    "  </div>\n",
    "</div>\n",
    "')\n"
   ]
  },
  {
   "cell_type": "markdown",
   "id": "c9ac5631-46c4-44f8-b2f2-059323997c81",
   "metadata": {
    "slideshow": {
     "slide_type": "fragment"
    }
   },
   "source": [
    "\n",
    "### Exercício 96. \n",
    "\n",
    "Como o gráfico do exercício 94 muda se a taxa de bloqueio for $0,5$?"
   ]
  },
  {
   "cell_type": "code",
   "execution_count": 49,
   "id": "de8e7b7f-805b-4add-a80a-73e5e4c52f33",
   "metadata": {
    "slideshow": {
     "slide_type": "fragment"
    }
   },
   "outputs": [
    {
     "data": {
      "text/html": [
       "\n",
       "<div style=\"display: flex; flex-direction: column; justify-content: center; align-items: center; height: 100vh;\">\n",
       "<div style=\"text-align:center\">\n",
       "    <img src=\"binomial_pacotes_bloqueados_p05.png\" width=\"600\">\n",
       "  </div>\n",
       "  </div>\n"
      ]
     },
     "metadata": {},
     "output_type": "display_data"
    }
   ],
   "source": [
    "# Parâmetros\n",
    "n <- 5\n",
    "p <- 0.5\n",
    "k <- 0:n\n",
    "\n",
    "# Probabilidades da distribuição binomial\n",
    "y <- dbinom(k, size = n, prob = p)\n",
    "\n",
    "# Salvar figura como PNG\n",
    "png(\"binomial_pacotes_bloqueados_p05.png\", width = 600, height = 400)\n",
    "\n",
    "# Gráfico\n",
    "barplot(y, names.arg = k, col = \"steelblue\",\n",
    "        main = \"Distribuição Binomial (n = 5, p = 0.5)\",\n",
    "        xlab = \"Número de pacotes bloqueados (k)\",\n",
    "        ylab = \"P(X = k)\",\n",
    "        ylim = c(0, max(y) + 0.05))\n",
    "\n",
    "invisible(dev.off())\n",
    "\n",
    "# Copiar para diretório externo, se necessário\n",
    "invisible(file.copy(\"binomial_pacotes_bloqueados_p05.png\",\n",
    "          to = \"D:/g_drive/docencia/uff/projetos/probest/jupiter/figs/binomial_pacotes_bloqueados_p05.png\",\n",
    "          overwrite = TRUE))\n",
    "\n",
    "# Exibir centralizado no notebook\n",
    "library(IRdisplay)\n",
    "\n",
    "display_html('\n",
    "<div style=\"display: flex; flex-direction: column; justify-content: center; align-items: center; height: 100vh;\">\n",
    "<div style=\"text-align:center\">\n",
    "    <img src=\"binomial_pacotes_bloqueados_p05.png\" width=\"600\">\n",
    "  </div>\n",
    "  </div>\n",
    "')\n"
   ]
  },
  {
   "cell_type": "markdown",
   "id": "a362096b-cdfe-40ac-a78b-e51906e61e2a",
   "metadata": {
    "slideshow": {
     "slide_type": "fragment"
    }
   },
   "source": [
    "### Exercício 97/98\n",
    "\n",
    "Uma variável aleatória $X$ assume os valores $\\{0,1,2,3\\}$ com distribuição de Poisson de parâmetro $\\lambda = 1$.  \n",
    "Calcule e desenhe a função de probabilidade. Compare graficamente distribuições de Poisson para $\\lambda=1$, $\\lambda=3$, $\\lambda=3$.\n",
    "\n",
    "<span style=\"color:blue\">\n",
    "Podemos escrever a distribuição de Poisson como:\n",
    "</span>  \n",
    "\n",
    "<span style=\"color:blue\">\n",
    "$$\n",
    "P(X = k) = \\frac{e^{-np} \\cdot (np)^k}{k!}\n",
    "$$\n",
    "</span>  \n",
    "\n",
    "<span style=\"color:blue\">\n",
    "A distribuição de Poisson é ideal para modelar **eventos raros**, ou seja, eventos com baixa probabilidade de ocorrência individual em pequenos intervalos de tempo ou espaço.\n",
    "</span>\n",
    "\n",
    "<span style=\"color:blue\">\n",
    "Esse comportamento emerge da aproximação de Poisson para a binomial quando $p \\to 0$ e $n \\to \\infty$, com $np = \\lambda$ constante.\n",
    "</span>\n",
    "\n",
    "<span style=\"color:blue\">\n",
    "Assim, a fórmula geral da distribuição de Poisson com parâmetro $\\lambda$ é:\n",
    "</span>\n",
    "\n",
    "<span style=\"color:blue\">\n",
    "$$\n",
    "P(X = k) = \\frac{\\lambda^k \\cdot e^{-\\lambda}}{k!}\n",
    "$$\n",
    "</span>\n",
    "\n",
    "<span style=\"color:blue\">\n",
    "Para $\\lambda = 1$, basta substituir na fórmula e calcular para $k = 0, 1, 2, 3$.\n",
    "</span>\n"
   ]
  },
  {
   "cell_type": "code",
   "execution_count": 41,
   "id": "7788ca06-f943-4cd0-9ed6-99234b10cdf7",
   "metadata": {
    "slideshow": {
     "slide_type": "fragment"
    }
   },
   "outputs": [
    {
     "data": {
      "text/html": [
       "\n",
       "  <div style=\"display: flex; flex-direction: column; justify-content: center; align-items: center; height: 100vh;\">\n",
       "    <div style=\"text-align:center\">\n",
       "      <img src=\"poisson_lambda1.png\" width=\"500\">\n",
       "      <div style=\"margin-top:8px; font-size:90%; color:#555;\">\n",
       "        Figura: Distribuição de Poisson com $ \\lambda = 1$. A maior probabilidade ocorre em $k = 1$.\n",
       "      </div>\n",
       "    </div>\n",
       "  </div>\n"
      ]
     },
     "metadata": {},
     "output_type": "display_data"
    }
   ],
   "source": [
    "# --- Gerar figura e salvar no diretório atual ---\n",
    "png(\"poisson_lambda1.png\", width = 600, height = 400)\n",
    "\n",
    "# Suporte da variável\n",
    "k <- 0:3\n",
    "lambda <- 1\n",
    "\n",
    "# Calcular probabilidades\n",
    "p <- dpois(k, lambda)\n",
    "\n",
    "# Criar gráfico\n",
    "barplot(p, names.arg = k, col = \"steelblue\",\n",
    "        main = expression(paste(\"Distribuição de Poisson com \", lambda, \" = 1\")),\n",
    "        xlab = \"k\", ylab = \"P(X = k)\", ylim = c(0, max(p) + 0.1))\n",
    "\n",
    "# Adicionar valores acima das barras\n",
    "text(x = seq_along(k), y = p + 0.02, labels = round(p, 3))\n",
    "\n",
    "invisible(dev.off())\n",
    "\n",
    "# Copiar figura para pasta externa (ajuste conforme necessário)\n",
    "invisible(file.copy(\"poisson_lambda1.png\",\n",
    "                    to = \"D:/g_drive/docencia/uff/projetos/probest/jupiter/figs/poisson_lambda1.png\",\n",
    "                    overwrite = TRUE))\n",
    "\n",
    "# Exibir figura centralizada horizontal e verticalmente\n",
    "library(IRdisplay)\n",
    "invisible(display_html('\n",
    "  <div style=\"display: flex; flex-direction: column; justify-content: center; align-items: center; height: 100vh;\">\n",
    "    <div style=\"text-align:center\">\n",
    "      <img src=\"poisson_lambda1.png\" width=\"500\">\n",
    "      <div style=\"margin-top:8px; font-size:90%; color:#555;\">\n",
    "        Figura: Distribuição de Poisson com $ \\\\lambda = 1$. A maior probabilidade ocorre em $k = 1$.\n",
    "      </div>\n",
    "    </div>\n",
    "  </div>\n",
    "'))\n"
   ]
  },
  {
   "cell_type": "markdown",
   "id": "a71c3c4e-82e5-4114-9858-3fe6080b1f19",
   "metadata": {
    "slideshow": {
     "slide_type": "fragment"
    }
   },
   "source": [
    "# --- Gerar e salvar a figura ---\n",
    "png(\"poisson_lambdas.png\", width = 800, height = 300)\n",
    "\n",
    "# Suporte da variável\n",
    "k <- 0:8\n",
    "\n",
    "# Configurar layout: 1 linha, 3 colunas\n",
    "par(mfrow = c(1, 3))\n",
    "\n",
    "# Vetor de lambdas e cores\n",
    "lambdas <- c(1, 2, 3)\n",
    "cores <- c(\"steelblue\", \"tomato\", \"darkgreen\")\n",
    "\n",
    "# Loop para plotar os 3 gráficos\n",
    "for (i in seq_along(lambdas)) {\n",
    "  lambda <- lambdas[i]\n",
    "  p <- dpois(k, lambda)\n",
    "  barplot(p, names.arg = k, col = cores[i],\n",
    "          main = bquote(Poisson(lambda == .(lambda))),\n",
    "          xlab = \"k\", ylab = \"P(X = k)\", ylim = c(0, max(p) + 0.05))\n",
    "  text(x = seq_along(k), y = p + 0.02, labels = round(p, 2), cex = 0.8)\n",
    "}\n",
    "\n",
    "invisible(dev.off())\n",
    "\n",
    "# Copiar para diretório externo (ajuste o caminho se necessário)\n",
    "invisible(file.copy(\"poisson_lambdas.png\",\n",
    "                    to = \"D:/g_drive/docencia/uff/projetos/probest/jupiter/figs/poisson_lambdas.png\",\n",
    "                    overwrite = TRUE))\n",
    "\n",
    "# Exibir figura centralizada no Jupyter\n",
    "library(IRdisplay)\n",
    "invisible(display_html('\n",
    "  <div style=\"display: flex; flex-direction: column; justify-content: center; align-items: center; height: 100vh;\">\n",
    "    <div style=\"text-align:center\">\n",
    "      <img src=\"poisson_lambdas.png\" width=\"700\">\n",
    "      <div style=\"margin-top:8px; font-size:90%; color:#555;\">\n",
    "        Figura: A visualização dos gráficos abaixo mostra que com o crescimento de lambda, a distribuição de Poisson tende a se comportar como a normal. Na realidade para valores próximos de $\\\\lambda=30$ é comum essa análise.\n",
    "Para $ \\\\lambda=1$ a curva formada pelos histogramas da esquerda para a direita é claramente assimetrica, tendendo a simetrização com o aumento de 𝜆\n",
    "      </div>\n",
    "    </div>\n",
    "  </div>\n",
    "'))\n"
   ]
  },
  {
   "cell_type": "markdown",
   "id": "da4e76dc-d6dc-46a0-9092-98e86f554c5f",
   "metadata": {
    "slideshow": {
     "slide_type": "slide"
    }
   },
   "source": [
    "### Exercício 99\n",
    "\n",
    "Em redes congestionadas, o número de perdas por segundo pode seguir Poisson. Justifique essa escolha de modelo.\n",
    "\n",
    "<span style=\"color:blue\">\n",
    "A distribuição de Poisson é adequada para modelar eventos discretos, raros e independentes, que ocorrem em um intervalo fixo de tempo ou espaço.  \n",
    "Em redes congestionadas, mesmo que as perdas aumentem, o número de pacotes perdidos por segundo ainda é, em geral, muito menor que o número total de pacotes transmitidos, ou seja, $P \\gg \\lambda$, com $\\lambda$ representando a taxa média de perdas.\n",
    "</span>\n",
    "\n",
    "<span style=\"color:blue\">\n",
    "Quando temos:\n",
    "</span>\n",
    "\n",
    "- <span style=\"color:blue\">um número elevado de tentativas $n$</span>  \n",
    "- <span style=\"color:blue\">cada tentativa com probabilidade de perda $p$ pequena</span>  \n",
    "- <span style=\"color:blue\">e o produto $\\lambda = n \\cdot p$ constante</span>\n",
    "\n",
    "<span style=\"color:blue\">\n",
    "então o número de perdas por segundo tende a seguir uma Poisson com parâmetro $\\lambda$.  \n",
    "Isso decorre do **teorema do limite de Poisson**, que aproxima a binomial $B(n, p)$ por $Poisson(\\lambda)$ quando $n \\to \\infty$ e $p \\to 0$ com $np = \\lambda$ constante.\n",
    "</span>\n"
   ]
  },
  {
   "cell_type": "markdown",
   "id": "367c1edf-5cd8-4d30-8fc4-1a60036e5620",
   "metadata": {
    "slideshow": {
     "slide_type": "fragment"
    }
   },
   "source": [
    "### Exercício 100\n",
    "\n",
    "Um sensor gera pacotes com taxa média de 2 por segundo. Modele o número de pacotes por segundo com uma distribuição adequada e represente graficamente.\n",
    "\n",
    "<span style=\"color:blue\">\n",
    "Vamos aplicar a distribuição de Poisson, onde $k$ é o número de pacotes:\n",
    "</span>\n",
    "\n",
    "<span style=\"color:blue\">\n",
    "$X \\sim \\text{Poisson}(\\lambda = 2)$\n",
    "</span>  \n",
    "\n",
    "<span style=\"color:blue\">\n",
    "A função de probabilidade é:\n",
    "$P(X = k) = \\frac{\\lambda^k e^{-\\lambda}}{k!}$\n",
    "\n",
    "$P(X = k) = \\frac{2^k e^{-2}}{k!}, \\quad k = 0, 1, 2, \\dots$\n",
    "</span>\n",
    "\n",
    "---\n",
    "\n",
    "### Exercício 101\n",
    "\n",
    "Para a variável do exercício 100, qual a esperança e a variância?\n",
    "\n",
    "<span style=\"color:blue\">\n",
    "A variável aleatória $X \\sim \\text{Poisson}(\\lambda)$ possui função de massa de probabilidade dada por:\n",
    "\n",
    "$P(X = k) = \\frac{\\lambda^k e^{-\\lambda}}{k!}, \\quad \\text{para } k = 0, 1, 2, \\dots$\n",
    "</span>\n",
    "\n",
    "<span style=\"color:blue\">\n",
    "O valor esperado é:\n",
    "\n",
    "$E[X] = \\sum_{k=0}^{\\infty} k \\cdot \\frac{\\lambda^k e^{-\\lambda}}{k!}$\n",
    "\n",
    "Com mudança de índice e manipulação algébrica, obtém-se:\n",
    "$E[X] = \\lambda$\n",
    "</span>\n",
    "\n",
    "<span style=\"color:blue\">\n",
    "A variância é dada por:\n",
    "$\\text{Var}(X) = E[X^2] - (E[X])^2$\n",
    "\n",
    "Sabendo que:\n",
    "$E[X^2] = \\lambda^2 + \\lambda$\n",
    "\n",
    "Logo:\n",
    "$$\n",
    "\\text{Var}(X) = \\lambda\n",
    "$$\n",
    "</span>\n",
    "\n",
    "<span style=\"color:blue\">\n",
    "Demonstração:\n",
    "</span>\n",
    "\n",
    "<span style=\"color:blue\">\n",
    "$E[X^2] = \\sum_{k=0}^{\\infty} k^2 \\cdot \\frac{\\lambda^k e^{-\\lambda}}{k!}$\n",
    "\n",
    "Note que $k^2 = k(k-1) + k$. Assim: $E[X^2] = \\sum_{k=0}^{\\infty} [k(k-1) + k] \\cdot \\frac{\\lambda^k e^{-\\lambda}}{k!} = T_1 + T_2$\n",
    "\n",
    "Onde:\n",
    "- $T_1 = \\sum_{k=0}^{\\infty} k(k-1) \\cdot \\frac{\\lambda^k e^{-\\lambda}}{k!} = \\lambda^2$\n",
    "- $T_2 = \\sum_{k=0}^{\\infty} k \\cdot \\frac{\\lambda^k e^{-\\lambda}}{k!} = E[X] = \\lambda$\n",
    "\n",
    "Portanto:\n",
    "$$\n",
    "E[X^2] = \\lambda^2 + \\lambda\n",
    "$$\n",
    "\n",
    "E:\n",
    "$$\n",
    "\\text{Var}(X) = \\lambda^2 + \\lambda - \\lambda^2 = \\lambda\n",
    "$$\n",
    "\n",
    "$$\n",
    "\\Rightarrow \\text{Var}(X) = E[X]\n",
    "$$\n",
    "</span>\n"
   ]
  },
  {
   "cell_type": "markdown",
   "id": "6ddc5511-0edf-4e06-a9a9-4fca6305adad",
   "metadata": {
    "slideshow": {
     "slide_type": "fragment"
    }
   },
   "source": [
    "### Exercício 102\n",
    "\n",
    "Uma interface sem fio transmite pacotes com probabilidade de sucesso $p = 0.95$. Para $n = 10$ transmissões, modele a variável $X$ como o número de pacotes recebidos com sucesso.  \n",
    "\n",
    "- <span style=\"color:blue\">Se há $p$ a distribição é binomial $X ~Bin (n, p)$ /span>  \n",
    "- <span style=\"color:blue\">Variável Aleatória $X$ é número de pacotes recebidos com sucesso $n=10$ com probabilidade $p=0.9$</span>\n",
    "- <span style=\"color:blue\">Isso deve levar a distribuição para assimétrica a direita com alta probabilidade de sucesso para k =10</span>\n",
    "\n",
    "Modelamos como:\n",
    "<span style=\"color:blue\">\n",
    "$ X \\sim \\text{Bin}(10, 0.95),\n",
    "\\qquad\n",
    "P(X = k) = \\binom{10}{k}0.95^k (0.05)^{10-k}, \\quad k = 0,1,2,3... 10$\n",
    "</span>\n",
    "---"
   ]
  },
  {
   "cell_type": "code",
   "execution_count": 5,
   "id": "91df5a36-22b0-439d-97b2-5c534d012d30",
   "metadata": {
    "slideshow": {
     "slide_type": "fragment"
    }
   },
   "outputs": [
    {
     "data": {
      "text/html": [
       "\n",
       "<div style=\"display: flex; justify-content: center; align-items: center; height: 100vh;\">\n",
       "  <img src=\"data:image/png;base64,iVBORw0KGgoAAAANSUhEUgAAArwAAAGQCAMAAAB74kOhAAAACVBMVEUAAABGgrT///8D6hycAAAKFklEQVR4nO3djXaaWBiG0TPc/0XPahPlR6ByUDgv7L2mY2L5EPEpoabR0kGocvYGQC3xEku8xBIvscRLLPESS7zEEi+xxEss8RJLvMQSL7HESyzxEku8xBIvscRLLPESS7zEEi+xxEss8RJLvMQSL7HEu0UpxR5rx30eivLXz0fDqwcLTH6rm1m4vCxRnit+HV5bWf/x+tjvcq83vLh8GXxY+k283oN9tfuzrI9sfO3apxvWu3nwObE+Ouzv7c0Zbtngg4p717SL3Z0Vj4ex/6g8Hurnf4+L5zLd89NnQt3g8+eSz0VLf3Duj/PPKwe3PIi3G42N/5T1+Y2Pvc8NnQyU0QaM7kN3uUf7YndnxTSy32yH/x8drAYLPw5n40PZynqHy5Sn0S0/ixou9HvFMN5uvDn9vZkeYSfBDj7uf/tih95r3Zs1L0fI/tq+1+eBaxTvdGB0HBzmOji0j9Y0v5LpFsyntRjv+FD8snS/ZeMtvJBr3Zs1M0fIbvRgvzT70lx/stEN4xsfV5dW0K9o9sjbr3F05F2Od35gZtMW1nAB17o3a14KnXb4RryldJOh2SP6erzDlXTDlX083q6bu5nruNa9WfP65Xkh3jLzwfTX6LRhPNxNlln7Ndiurr9mYbtHZwnLpw3jv7A58l7Cy7lpeVyO+nsuMz40l9ffHa93Gm/XL/tS/vppw8t2d5O19be6dDe73+P7ZLPFm2ryEPafjOMdfC0eHCCnC4++rE8znc68HJfL4HbejLeb5DdYwev97G+2L3+4rqu41r35mvmj3IfWXbN03fZc7NG+2N35ni/Gu2XV/cnKt28pwMXuzpd888Bb9xjUxVsx07Kr3R9uRLzEEi+xxEss8RJLvMQSL7HESyzxEku8xBIvscRLLPESS7zEEi+xxEss8RJLvMQSL7HESyzxEku8xBIvscRLLPESS7zEEi+xxEss8RJLvMQSL7HESyzxEuuNeAfvzAEN+XeT5Xch9dIY8RJLvMR655x38d0W4UyaJJZ4ifV+vP2Sj7eKFj5ryhZVN7Bn43bMcn3lv/eJl6a0EO/icV28rGkg3jK53DLLnYmXWOIlVgPxOuelTgvxfmWW6xMvscRLLPESS7zEEi+xxEss8RJLvMQSL7HESyzxEku8xBIvscRLLPESS7zEEi+xxEss8RJLvMQSL7HESyzxEku8xBIvsRqI988SXu6J7dqId+GtrMTLGvESq4V4i3ip0UC8f894ZxcUL2uaiPcbs1yfeInVULz9kt5EkHc0FO9nZ7k+8RKrhXi9oQpVGoi3TC63zHJn4iWWeInVQLzOeanTQrxfmeX6xEss8RJLvMQSL7HESyzxEku8xBIvscRLLPESS7zEEi+xxEss8RJLvMQSL7HESyzxEku8xBIvscRLLPESS7zEEi+xxEusZuKdW068rGkg3uUX8RcvaxqIt/ubrSMvW7UQb/d8H8GaWW6rjXh/j76Vs9xUK/F+fJbrEy+xGoq3X9KbCPKOhuL97CzXJ15itRCvN1ShSgPxeisr6oiXWOIlVgPxOuelTgvxfmWW6xMvscRLrMPirfl2r3hZc1C8ZXSxbRbmHRNvGX+6aRYWHHXaUIafbJyFWced824+aRAv6457tqHiX+eKlzUHPlUmXj7roL+w1f1ohHhZ45sUxBIvscRLLPESS7zEOvSbFLWzMEe8xBIvscRLLPESS7zE8lQZscRLLPESS7zEOvYHMOfX8Off+Xq5JzY78kffF/4tehn8mpvlDsoGz5mjThvm32ntsYR4725DiMfHu1zi8jmFeO+j6XiXj7zLr+kg3vtoON61c95/zXIH7ca7/mzD+iy30H68qz0OFvImgrfTbrxeJZJ/aDjezuvzsqrpeNcW8YYqhMbreV6ajnftlEG8tBzv/Hd/h0vMLiDe+wiN1zkvufGuz3IL4iVWw/F6cWnWtRtv7R3aMUsW8RJLvMQSL7HESyzxEku8xBIvscRLLPESS7zEEi+xxEss8RJLvMQSL7HESyzxEku8xBIvscRLLPESS7zEEi+xUuP9fTESL7R3Z6Hx/n0tqCLeewuOt5t9nzbx3kd0vHNvtiLe+wiN91lvzSwXkRrvV2bJIl5ihcfbL+kdMO8nPN7PzpJFvMRKjde7AZEab5lcbpnlKsRLLPESKzRe57zkxvuVWbKIl1jiJZZ4iSVeYomXWOIllniJJV5iiZdY4iWWeIklXmKJl1jiJZZ4iSVeYomXWOIllniJJV5iiZdY4iWWeIklXmKJl1jiJZZ4iRUa7/I7UIj3PkLjXV5EvPeRGu/iMuK9j9h4vzFLFvESKzzefklvIng/4fF+dpYs4iVWarzeUIXUeMvkcsssVyFeYomXWKHxOuclN96vzJJFvMQSL00oGzxnxEsLvhyiePke8e6c5Tzi3TnLecS7c5bziHfnLOcR785ZziPenbOcR7w7ZzmPeHfOch7x7pzlPOLdOct5xLtzlvOId+cs5xHvzlnOI96ds5xHvDtnOY94d85yHvHunOU84t05y3nEu3OW84h35yznEe/OWc5zp3i93NPF3CjeMrncMkuLxPvWLC0S71uzfFuDL93UUrzOeVvWYIhNxfuVWT6jwRDFy3saDLHFePsl199EcMtZWNkxU3e61+CMnTAc2sLRk1jiJdaeZxvgVHue54VTiZdY4iWWc15iaZJY4iWWeIklXmKJl1jiJZZ4iSVeYomXWOIl1jHxVn13uWak6naqvvW9fabme+x1I4fcTs1Qqb+x5dV9Wam5oYp7WHc7NUO1W1cxcsQf+4N23M9Oq7xTC1vwdTWbWyo37aAfhqo4uG2+jepHp9F4fx/SG8Rbu2nHxFvxR6vqq3nNEb5yVx9RvHg/PlR1CnDI0e3Plh1zflJ3GrR1SryfH6o4pzlm647acdXn/eJdmTpipmKs9l/nHxLvcX8xdNqwOvX9kab/Rt90vDc55z3qed66A+KBz/MeM7N5ovYBusXzvPAN4iWWeIklXmKJl1jiJZZ4iSVeYomXWOIllniJJV5iiZdY4iWWeIklXmKJl1jiJZZ4iSXeCnZaGzwObyr9/9/eZx/buWXjDd+E/fGmUpHPp3ZuGf3Z4cHueFN5vN7A86I8X+/o52e5y88LID326O/ryQyveLxiwc/1/XWrF8Nb9WiN2B1veon38Wt8TTc4SL5cMWp//MnixcskT/bGmxaCm7/m5fee/x9eP/lkdon+Cme9L+yNN/UnBt1LvD8v1DMfb/8iPqPThvK4qgzOLaYnFsOaa865r87eeNNavMMl5g+q/UpejryD9Y/XPLcqD9eQvfGm30PjvtMG57wfZW+8adDRy0lC/+V+/ORCmV4xun583eJFNyjXozVidwQoLx/wh92RYHQKzIP9QSzxEku8xBIvscRLLPESS7zEEi+xxEss8RJLvMQSL7HESyzxEku8xBIvsf4HXsErAzHxvC8AAAAASUVORK5CYII=\" width=\"600\">\n",
       "</div>\n"
      ]
     },
     "metadata": {},
     "output_type": "display_data"
    }
   ],
   "source": [
    "# Instale os pacotes se necessário\n",
    "# install.packages(\"base64enc\")\n",
    "# install.packages(\"IRdisplay\")\n",
    "\n",
    "library(base64enc)\n",
    "library(IRdisplay)\n",
    "\n",
    "# Parâmetros da binomial\n",
    "n <- 10\n",
    "p <- 0.95\n",
    "k <- 0:n\n",
    "y <- dbinom(k, size = n, prob = p)\n",
    "\n",
    "# Caminho do arquivo PNG\n",
    "img_path <- \"D:/g_drive/docencia/uff/projetos/probest/jupiter/figs/binomial_n10_p95.png\"\n",
    "\n",
    "# Gerar o gráfico e salvar (em silêncio)\n",
    "invisible({\n",
    "  png(img_path, width = 700, height = 400)\n",
    "  barplot(y,\n",
    "          names.arg = k,\n",
    "          col = \"steelblue\",\n",
    "          ylim = c(0, max(y) + 0.05),\n",
    "          main = \"Distribuição Binomial (n = 10, p = 0.95)\",\n",
    "          xlab = \"Número de sucessos (k)\",\n",
    "          ylab = \"P(X = k)\")\n",
    "  invisible(dev.off())\n",
    "})\n",
    "\n",
    "# Codificar imagem como base64\n",
    "invisible(img_b64 <- dataURI(file = img_path, mime = \"image/png\"))\n",
    "\n",
    "# Exibir centralizado no notebook\n",
    "display_html(sprintf('\n",
    "<div style=\"display: flex; justify-content: center; align-items: center; height: 100vh;\">\n",
    "  <img src=\"%s\" width=\"600\">\n",
    "</div>\n",
    "', img_b64))\n"
   ]
  },
  {
   "cell_type": "markdown",
   "id": "a848b651-05f2-4f03-b8de-9a7635ae95db",
   "metadata": {
    "slideshow": {
     "slide_type": "slide"
    }
   },
   "source": [
    "### Exercício 103\n",
    "\n",
    "Uma fila de espera em um roteador recebe em média $\\lambda = 3$ requisições por segundo. Modele o número de chegadas por segundo  \n",
    "$\\quad$\n",
    "- <span style=\"color:blue\">Se há $\\lambda$, a distribuição é de Poisson: $X \\sim \\text{Pois}(\\lambda)$</span>  \n",
    "- <span style=\"color:blue\">Variável Aleatória $X$ representa o número de pacotes recebidos por segundo com taxa média $\\lambda = 3$</span>  \n",
    "- <span style=\"color:blue\">Distribuição discreta, com maior concentração de probabilidade em torno de $k = 3$</span>  \n",
    "\n",
    "Modelamos como:  \n",
    "<span style=\"color:blue\">\n",
    "$X \\sim \\text{Pois}(3),\n",
    "\\qquad\n",
    "P(X = k) = \\frac{3^k e^{-3}}{k!}, \\quad k = 0,1,2,\\cdots, 10 $\n",
    "</span>\n",
    "\n",
    "---"
   ]
  },
  {
   "cell_type": "markdown",
   "id": "ab8ff0c7-9b8a-40ee-9bd5-f73d011f97f3",
   "metadata": {
    "slideshow": {
     "slide_type": "fragment"
    }
   },
   "source": [
    "### Exercício 104\n",
    "\n",
    "Um firewall analisa $n = 20$ conexões. Cada conexão tem $p = 0.1$ de ser considerada maliciosa. Modele o número de conexões maliciosas:  \n",
    "$\\quad$\n",
    "\n",
    "- <span style=\"color:blue\">Se há $p$ a distribição é binomial $X ~Bin (n, p)$ </span>  \n",
    "- <span style=\"color:blue\">Variável Aleatória $X$ é número de pacotes recebidos com sucesso $n=20$ com probabilidade $p=0.1$</span>\n",
    "- <span style=\"color:blue\">Isso deve levar a distribuição para assimétrica a esquerda com baixa probabilidade de sucesso para k=20 =10</span>\n",
    "\n",
    "Modelamos como:\n",
    "<span style=\"color:blue\">\n",
    "$ X \\sim \\text{Bin}(20, 0.1),\n",
    "\\qquad\n",
    "P(X = k) = \\binom{20}{k}0.1^k (0.9)^{20-k}, \\quad k = 0,1,2,3... 10$\n",
    "</span>\n",
    "---\n"
   ]
  },
  {
   "cell_type": "code",
   "execution_count": 6,
   "id": "57a84894-89f6-4a59-b423-0bbc152f1269",
   "metadata": {
    "slideshow": {
     "slide_type": "fragment"
    }
   },
   "outputs": [
    {
     "data": {
      "text/html": [
       "\n",
       "<div style=\"display: flex; justify-content: center; align-items: center; height: 100vh;\">\n",
       "  <img src=\"data:image/png;base64,iVBORw0KGgoAAAANSUhEUgAAArwAAAGQCAMAAAB74kOhAAAACVBMVEUAAABGgrT///8D6hycAAAKwElEQVR4nO3di3aiygJFUS7//9F3nE7kWVUWxEQ2zjm624SXqCt0hagZRgg1vHsH4CzxEku8xBIvscRLLPESS7zEEi+xxEss8RJLvMQSL7HESyzxEku8xBIvscRLLPESS7zEEi+xxEss8RJLvMQSL7HEe9QwDO61a/ish2H45+uj5eTFAptZY2HhYbfEMG14v3JrY/PHzdXmne58uIb9ldzxgb7jbaqbI1tPbX16YLuHV5zWaK762Hb3VawWLH213sQNb1LD98FxmD+ampj+PC6mZaZj13QxjIvPpyWnRYf54DyXM01cXPMi3nG12uqrbFjM3B5SF/UPqx1bbWm6ipu54U1q2Eb2ne3y38XYYh3v8vC3+Ly63eUyw2R1zeNc2LjrrxDvOK8xLzRWV/j6ZFxOvZf73aKW3RFynjr3Oh24VvFuV9gd3tYb2G+pvJHtHlQSW+3OPLE0/t4tKN57KBwhx9WDvWt219w82BiX8a2Pq7UNzBsqHnnnLS4PpKX5m6mNI69472JX6LbDjninwcW4iW+9aDve5UbG5caK8c6bF+/S/W5Ry/6/50q8Q+GD7d/VsGG98rhZpvV3sV/jPGW314VRQn3YsJou3nvYjU2n78FW/a2/zdoepjffjC22u413nJfdld8eNhR3ejXMGRe7UlxjWlC89zA/3FNb35PXB8/VsW6OYL3w6uC2zXS7zu64PCyupzPe5da+LytFrhYUL8X/oV+27TNLH9ufGz7SN7xJv+cX4z2y6fX3cb9xDSFueJN+yW8eeM89DqeKv5M73iY+hHiJJV5iiZdY4iWWeIklXmKJl1jiJZZ4iSVeYomXWOIlVke8mxcDwkU8b3LYXMJFiJdY4iWWMS+xNEks8RKrb9jwy68+hDP6vmF7/IULES+xnCojVs+Yd7vg423l5Mxb/SRA8fJW4iVWf4CF99585Y7AUY68xBIvsX7yxBzx8lY/Oc8rXt5KvMQSL7GMeYnlbAOxxEusq8Q7VLzwKriby8T7vyLxUideYomXWOIllniJJV5iiZdY4iWWeIklXmKJl1jiJdafxtt49o14Oexv460XKl4OEy+xxEss8RJLvMQSL7E639b/NS99Fy+v1BXvUF5SvLyVeInVEe8gXi6pp45/A15jXq7G2QZiiZdYfe8SWV5SvLxV73le8XI5ffH+9694uZjeeMfCj9jEy1v1jHm3S55+/1Hx8krONhBLvMTqr8OYl4tx5CWWeInV9xM2T0bngrrP8xrzcjXiJZZ4iWXMSyxnG4glXmKJl1jiJZZ4iSVeYomXWOIllniJJV5iiZdY4iWWeIklXmKJl1jiJZZ4iSVeYomXWOIllniJJV5ieek7sbzpCLHESyzxEsuYl1jONhBLvMTqGzaUlxQvb9X3DZvfPcwF9Z5t8LuHuZzuU2V+9zBX0zPm3S7pdw9zCc42EEu8xOqvw5iXi3HkJZZ4ieWJOcTylEhiJcQ7lB29du4mIl4HZUoSxrzipSjhbIN4KRIvscRLLPESS7zEEi+xxEss8RJLvMQSL7GmZy6ceKqLeHmr73dlWF0cW/fICuLlhYbpn3H9Ue+6h1YQLy+0elOGgz2Il7daPFvXmJcsUwInXpkgXt7q5HD33Bri5ZXWLxI7se6hFcTLC/khBbHESyzxEku8xHqewL+0vPSd61n+kKK6xOZnyNt1+69MvLyQeInVEe8gXi7pebzj128RNOblanrifbZu/wri5YXESyzneYklXmJ1/JCi+pQz8fJWHQnUz0IcvjLx8kKrU7j1H1OsP//j3z0sXoq+EhiGxz/H1z2ygnh5ofmg62VAhBl2HzxdsjHl2SbEyws58hLLmJdYHWcb/B42rmnzbMdGosa8XMxi2FAZOIiXi5rSrP7QQbxcVM+Ph415uSTPKiPWY7B7JgXx8lbT2YYTLYiXtxIvscRLLPES66sOby5NIKfKiCVeYomXWOIllniJJV5ivT7eoWIUL6/1C/GeKlS8HCZeYomXWOIllniJJV5iiZdYHQkcfPWwePkjzxMYNpfP1hUvf0S8xBIvsYx5ieVsA7HESyzxEku8xOo423Dw17eKlz/Sc7bh2Azx8kd6Etgu036DHfHyR4x5iSVeYvUn4Bs2LsaRl1jiJZYn5hDLUyKJJV5ihcdbf1807i98zOug/MnCzzaI95OJl1jiJZZ4iSVeYomXWOIllniJJV5iiZdY4iWWeIklXmKJl1jiJZZ4iSVeYomXWOIllniJJV5iiZdYzx/nf2l56TvX0xXvUF5SvLyVeInVEe8gXi6p53H+N+A15uVqnG0glniJ1fE4e5dIrqnvPG95SfHyVuIllniJdWbMe6HfPSzeT+ZsA7HES6z+x9mYl4tx5CWWeInlJ2zEcp6XWOIllniJZcxLLGcbiCVeYomXWOIllniJdd94h7If3F4u5sbx1mdxD+IllniJJV5iiZdY4iWWeIklXmKJl1jiJZZ4iSVeYomXWOIllniJJV5idTyYoS99F+/tPX8wh83ls3XFyx8RL7E+Mt7Ky9uEHeYjx7ytKyPHR55tEO89iHczjxyGDZt55PjMb9gaV0YO8W72w4mIHOLt3w8u5syY98nvHq4fu87Nar3r2Etnnd/Fxix73zXr1NHBIYVY4iVWf7wy52IkSSzxEusnP2GDt/rJeV54K/ESS7zEMuYlliaJJV5iiZdY4iWWeIklXmKJl1i/GG/z3HB9VmO1c1tsnKRuzjm1H9VZQ332sLo4tlZrg+0t1l7WVd9i+T45tYvzyyoKu9jt9+IdWltvPPr11X6wxRMbbFxVfWZ11veDVZo9DMuLY2u1NtjYYjnr51ssvZDxzC5+T2vf/8+9J96hfb3njq8v3NiTq6rPrM36vsHlB3JYXJRmlXamZ1bxMDntx/FZpbk9N6z6X0BmvE+u90Rv9S+H1qihcbw+d8Cuz2o8kE+HDa216rPKd8k0AKju4pmRTeOGfVi8jbUaR8PWkbeW2vDk+FrdjcaV1V5UXd+XjngbPVVnteKt70f5Pnm6i62vhuo+fla8rSPeubXOxNtabah9Ff1WvK0j3plj+bldbK1VvktuGu+ZEcWT572diPfJ1g5f2Y/iPVVhY2zQWq2xi8Vb9vyGHR5R9LpevOeOeO0K/yze+qyfxHs2mlPDhsYWT+1Hcda8vWvG+4OzsvX/k09u8cys+jX99Xnek+dXm18Op84c1+M9uMHHLbrseV74ZeIllniJJV5iiZdY4iWWeIklXmKJl1jiJZZ4iSVeYomXWOIllniJJV5iiZdY4iWWeIkl3hPcadfgcei0eAli9332sju38VZMn8z90Wk4kc+r7tyh+fLdz+Xu6DQ83mVguvj3xkiP16Y/lphfzP39RjHLCY/3KfiaPk9rXiyv1aO14u7otIv38Xc9ZVwcJHcTVu2vP6le7NZk4t7oVAmuPGU3b/p3OX3zSXGJeYJR7457o9M8MBh38X69/0s53vndblbDhuExafnOMduBxbLmM2Puu3NvdGrFu1yifFCdN7I78i62v95yaVMeriX3RqfvQ+PPhg3GvC/l3ui06Gg3SJj/u1+fXBi2E1bT19OqF+OiXI/WirsjwLD7gP+4OxKshsA8uD+IJV5iiZdY4iWWeIklXmKJl1jiJZZ4iSVeYomXWOIllniJJV5iiZdY4iXW/wGBixrkF05gJQAAAABJRU5ErkJggg==\" width=\"600\">\n",
       "</div>\n"
      ]
     },
     "metadata": {},
     "output_type": "display_data"
    }
   ],
   "source": [
    "# Carregar bibliotecas necessárias\n",
    "library(base64enc)\n",
    "library(IRdisplay)\n",
    "\n",
    "# Parâmetros da distribuição binomial\n",
    "n <- 20\n",
    "p <- 0.1\n",
    "k <- 0:n\n",
    "y <- dbinom(k, size = n, prob = p)\n",
    "\n",
    "# Caminho para salvar a figura\n",
    "img_path <- \"D:/g_drive/docencia/uff/projetos/probest/jupiter/figs/binomial_n20_p01.png\"\n",
    "\n",
    "# Gerar e salvar o gráfico (modo silencioso)\n",
    "invisible({\n",
    "  png(img_path, width = 700, height = 400)\n",
    "  barplot(y,\n",
    "          names.arg = k,\n",
    "          col = \"steelblue\",\n",
    "          ylim = c(0, max(y) + 0.02),\n",
    "          main = \"Distribuição Binomial (n = 20, p = 0.1)\",\n",
    "          xlab = \"Número de sucessos (k)\",\n",
    "          ylab = \"P(X = k)\")\n",
    "  invisible(dev.off())\n",
    "})\n",
    "\n",
    "# Codificar imagem como base64\n",
    "invisible(img_b64 <- dataURI(file = img_path, mime = \"image/png\"))\n",
    "\n",
    "# Exibir centralizado vertical e horizontalmente\n",
    "display_html(sprintf('\n",
    "<div style=\"display: flex; justify-content: center; align-items: center; height: 100vh;\">\n",
    "  <img src=\"%s\" width=\"600\">\n",
    "</div>\n",
    "', img_b64))\n"
   ]
  },
  {
   "cell_type": "markdown",
   "id": "fa6c3f2b-eafb-4397-9964-b8fbf6286b9d",
   "metadata": {
    "slideshow": {
     "slide_type": "fragment"
    }
   },
   "source": [
    "### Exercício 105\n",
    "\n",
    "Um sensor de presença envia em média 2 alertas por hora. Modele o número de alertas por hora:  \n",
    "$\\quad$\n",
    "Se $\\lambda$ é dado, muito provavelmente isto é uma distribuição de Poisson.\n",
    "\n",
    "<span style=\"color:blue\">$X \\sim \\text{Pois}(\\lambda)$</span>  \n",
    "<span style=\"color:blue\">$P(X = k) = \\dfrac{2^k e^{-2}}{k!}$</span>"
   ]
  },
  {
   "cell_type": "markdown",
   "id": "6a1c27df-189c-4526-ac11-13985b69f4f7",
   "metadata": {
    "slideshow": {
     "slide_type": "slide"
    }
   },
   "source": [
    "### Exercício 106\n",
    "\n",
    "Em um link óptico transmite-se $n = 30$ pacotes com taxa de erro de $p = 0.02$. Modele o número de pacotes com erro:  \n",
    "$\\quad$\n",
    "\n",
    "- <span style=\"color:blue\">$X∼\\text{Bin}(30,0.02),    P(X=k)=\\binom{30} {k}(0.02)^{k}(1-0.02)^{30-k},  k=0,1,2,…,30$</span>\n",
    "---"
   ]
  },
  {
   "cell_type": "code",
   "execution_count": 8,
   "id": "324c3b8a-b104-45f3-ad1f-80254d7054de",
   "metadata": {
    "slideshow": {
     "slide_type": "fragment"
    }
   },
   "outputs": [
    {
     "data": {
      "text/html": [
       "\n",
       "<div style=\"display: flex; justify-content: center; align-items: center; height: 100vh;\">\n",
       "  <img src=\"data:image/png;base64,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\" width=\"700\">\n",
       "</div>\n"
      ]
     },
     "metadata": {},
     "output_type": "display_data"
    }
   ],
   "source": [
    "\n",
    "# Instale os pacotes se necessário\n",
    "# install.packages(\"base64enc\")\n",
    "# install.packages(\"IRdisplay\")\n",
    "\n",
    "library(base64enc)\n",
    "library(IRdisplay)\n",
    "\n",
    "# Parâmetros da binomial\n",
    "n <- 30\n",
    "p <- 0.02\n",
    "k <- 0:n\n",
    "y <- dbinom(k, size = n, prob = p)\n",
    "\n",
    "# Caminho para salvar o gráfico\n",
    "img_path <- \"D:/g_drive/docencia/uff/projetos/probest/jupiter/figs/binomial_n30_p02.png\"\n",
    "\n",
    "# Gerar e salvar a figura (sem ruído)\n",
    "invisible({\n",
    "  png(img_path, width = 700, height = 400)\n",
    "  barplot(y,\n",
    "          names.arg = k,\n",
    "          col = \"steelblue\",\n",
    "          ylim = c(0, max(y) + 0.02),\n",
    "          main = \"Distribuição Binomial (n = 30, p = 0.02)\",\n",
    "          xlab = \"Número de sucessos (k)\",\n",
    "          ylab = \"P(X = k)\")\n",
    "  invisible(dev.off())\n",
    "})\n",
    "\n",
    "# Codificar em base64\n",
    "invisible(img_b64 <- dataURI(file = img_path, mime = \"image/png\"))\n",
    "\n",
    "# Exibir centralizado (vertical + horizontal)\n",
    "display_html(sprintf('\n",
    "<div style=\"display: flex; justify-content: center; align-items: center; height: 100vh;\">\n",
    "  <img src=\"%s\" width=\"700\">\n",
    "</div>\n",
    "', img_b64))"
   ]
  },
  {
   "cell_type": "markdown",
   "id": "d87f2ce6-bb09-4727-9aec-18179e986706",
   "metadata": {
    "slideshow": {
     "slide_type": "fragment"
    }
   },
   "source": [
    "### Exercício 107\n",
    "\n",
    "Um sistema de autenticação registra, em média, $\\lambda = 5$ falhas de login por minuto em horário de pico. Modele o número de falhas por minuto:  \n",
    "$\\quad$\n",
    "<span style=\"color:blue\">$P(X=k)=\\frac{5^{k}e^{-5}}{k!}$</span>\n",
    "\n",
    "---"
   ]
  },
  {
   "cell_type": "code",
   "execution_count": null,
   "id": "dd068832-df8b-4e8d-923e-b91428c50fde",
   "metadata": {
    "slideshow": {
     "slide_type": "fragment"
    }
   },
   "outputs": [],
   "source": []
  },
  {
   "cell_type": "markdown",
   "id": "2a0d2287-a96e-4c8a-8171-c0ee0e87b89a",
   "metadata": {
    "slideshow": {
     "slide_type": "fragment"
    }
   },
   "source": [
    "### Exercício 108\n",
    "\n",
    "Em uma transmissão de dados, $n = 15$ pacotes são enviados com probabilidade de sucesso $p = 0.9$. Modele o número de sucessos:  \n",
    "$\\quad$\n",
    "<span style=\"color:blue\">\n",
    "$X \\sim \\text{Bin}(15,\\ 0.9)$  \n",
    "$\\displaystyle P(X = k) = \\binom{15}{k} \\cdot 0.9^k \\cdot (1 - 0.9)^{15 - k}, \\quad k = 0, 1, 2, \\dots, 15$\n",
    "</span>\n",
    "\n",
    "---"
   ]
  },
  {
   "cell_type": "code",
   "execution_count": 9,
   "id": "ac6598b3-4d06-49fb-ac78-67f2e19040db",
   "metadata": {
    "slideshow": {
     "slide_type": "fragment"
    }
   },
   "outputs": [
    {
     "data": {
      "text/html": [
       "\n",
       "<div style=\"display: flex; justify-content: center; align-items: center; height: 100vh;\">\n",
       "  <img src=\"data:image/png;base64,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\" width=\"700\">\n",
       "</div>\n"
      ]
     },
     "metadata": {},
     "output_type": "display_data"
    }
   ],
   "source": [
    "# Instale os pacotes se necessário\n",
    "# install.packages(\"base64enc\")\n",
    "# install.packages(\"IRdisplay\")\n",
    "\n",
    "library(base64enc)\n",
    "library(IRdisplay)\n",
    "\n",
    "# Parâmetros\n",
    "n <- 15\n",
    "p <- 0.9\n",
    "k <- 0:n\n",
    "y <- dbinom(k, size = n, prob = p)\n",
    "\n",
    "# Caminho do arquivo\n",
    "img_path <- \"D:/g_drive/docencia/uff/projetos/probest/jupiter/figs/binomial_n15_p09.png\"\n",
    "\n",
    "# Gerar e salvar a figura (silenciosamente)\n",
    "invisible({\n",
    "  png(img_path, width = 700, height = 400)\n",
    "  barplot(y,\n",
    "          names.arg = k,\n",
    "          col = \"steelblue\",\n",
    "          ylim = c(0, max(y) + 0.05),\n",
    "          main = \"Distribuição Binomial (n = 15, p = 0.9)\",\n",
    "          xlab = \"Número de sucessos (k)\",\n",
    "          ylab = \"P(X = k)\")\n",
    "  invisible(dev.off())\n",
    "})\n",
    "\n",
    "# Codificar como base64\n",
    "invisible(img_b64 <- dataURI(file = img_path, mime = \"image/png\"))\n",
    "\n",
    "# Exibir centralizado vertical e horizontalmente\n",
    "display_html(sprintf('\n",
    "<div style=\"display: flex; justify-content: center; align-items: center; height: 100vh;\">\n",
    "  <img src=\"%s\" width=\"700\">\n",
    "</div>\n",
    "', img_b64))\n"
   ]
  },
  {
   "cell_type": "markdown",
   "id": "c90725f4-fc68-483a-b035-63622386a733",
   "metadata": {
    "slideshow": {
     "slide_type": "slide"
    }
   },
   "source": [
    "### Exercício 109\n",
    "\n",
    "Um servidor Web recebe, em média, $\\lambda = 10$ requisições por segundo. Modele a variável que conta o número de requisições por segundo:  \n",
    "$\\quad$\n",
    "<span style=\"color:blue\">\n",
    "$\\displaystyle P(X = k) = \\frac{10^k \\cdot e^{-10}}{k!}$\n",
    "</span>\n"
   ]
  },
  {
   "cell_type": "code",
   "execution_count": null,
   "id": "3c9d8dab-0f0a-45ea-8cc8-c2b9ff988d63",
   "metadata": {
    "slideshow": {
     "slide_type": "fragment"
    }
   },
   "outputs": [],
   "source": []
  },
  {
   "cell_type": "markdown",
   "id": "946a2560-c09c-4415-a39d-11a9ce0b2807",
   "metadata": {
    "slideshow": {
     "slide_type": "fragment"
    }
   },
   "source": [
    "---\n",
    "\n",
    "### Exercício 110\n",
    "\n",
    "Um sistema de compressão falha em $p = 0.05$ dos casos. Para $n = 40$ compressões, modele o número de falhas:  \n",
    "$\\quad$\n",
    "<span style=\"color:blue\">\n",
    "$X \\sim \\text{Bin}(40,\\ 0.05)$  \n",
    "$\\displaystyle P(X = k) = \\binom{40}{k} \\cdot 0.05^k \\cdot (1 - 0.05)^{40 - k}, \\quad k = 0, 1, 2, \\dots, 40$\n",
    "</span>"
   ]
  },
  {
   "cell_type": "code",
   "execution_count": 10,
   "id": "54b4a6c1-3d88-4ce5-a05d-30861e569ec5",
   "metadata": {
    "slideshow": {
     "slide_type": "fragment"
    }
   },
   "outputs": [
    {
     "data": {
      "text/html": [
       "\n",
       "<div style=\"display: flex; justify-content: center; align-items: center; height: 100vh;\">\n",
       "  <img src=\"data:image/png;base64,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\" width=\"700\">\n",
       "</div>\n"
      ]
     },
     "metadata": {},
     "output_type": "display_data"
    }
   ],
   "source": [
    "# Instale os pacotes se necessário\n",
    "# install.packages(\"base64enc\")\n",
    "# install.packages(\"IRdisplay\")\n",
    "\n",
    "library(base64enc)\n",
    "library(IRdisplay)\n",
    "\n",
    "# Parâmetros da binomial\n",
    "n <- 40\n",
    "p <- 0.05\n",
    "k <- 0:n\n",
    "y <- dbinom(k, size = n, prob = p)\n",
    "\n",
    "# Caminho da figura\n",
    "img_path <- \"D:/g_drive/docencia/uff/projetos/probest/jupiter/figs/binomial_n40_p05.png\"\n",
    "\n",
    "# Gerar e salvar figura silenciosamente\n",
    "invisible({\n",
    "  png(img_path, width = 700, height = 400)\n",
    "  barplot(y,\n",
    "          names.arg = k,\n",
    "          col = \"steelblue\",\n",
    "          ylim = c(0, max(y) + 0.01),\n",
    "          main = \"Distribuição Binomial (n = 40, p = 0.05)\",\n",
    "          xlab = \"Número de sucessos (k)\",\n",
    "          ylab = \"P(X = k)\")\n",
    "  invisible(dev.off())\n",
    "})\n",
    "\n",
    "# Codificar como base64\n",
    "invisible(img_b64 <- dataURI(file = img_path, mime = \"image/png\"))\n",
    "\n",
    "# Exibir centralizado no notebook (horizontal e vertical)\n",
    "display_html(sprintf('\n",
    "<div style=\"display: flex; justify-content: center; align-items: center; height: 100vh;\">\n",
    "  <img src=\"%s\" width=\"700\">\n",
    "</div>\n",
    "', img_b64))\n"
   ]
  },
  {
   "cell_type": "markdown",
   "id": "d3ce7828-4973-4190-b3a8-06f61e474305",
   "metadata": {
    "slideshow": {
     "slide_type": "fragment"
    }
   },
   "source": [
    "### Exercício 111\n",
    "\n",
    "O switch registra que 10% dos pacotes vêm da VLAN 10. Desses, 90% são legítimos. Nos demais, apenas 40% são legítimos.\n",
    "\n",
    "✦ **Tarefa extra:** construa um diagrama (ex: árvore, gráfico de barras, ou Venn) que ajude a representar os eventos e probabilidades envolvidos."
   ]
  },
  {
   "attachments": {
    "dfc67d6f-c2cd-46f1-8ef7-ee47af762a5b.png": {
     "image/png": "[encoded data removed]"
    },
    "fe01faf7-be54-4dc8-9548-1c199d619f7a.png": {
     "image/png": "[encoded data removed]"
    }
   },
   "cell_type": "markdown",
   "id": "dede9560-c5a1-4381-8394-cc9b97ae3c3b",
   "metadata": {
    "slideshow": {
     "slide_type": "fragment"
    }
   },
   "source": [
    "| Diagrama de Venn                       |Árvore de Possibilidades                                   |\n",
    "|--------------------------------------------------------|------------------------------------------------------|\n",
    "| ![image.png](attachment:dfc67d6f-c2cd-46f1-8ef7-ee47af762a5b.png) | ![Venn](attachment:fe01faf7-be54-4dc8-9548-1c199d619f7a.png) |\n",
    "\n",
    "\n",
    "---"
   ]
  },
  {
   "cell_type": "markdown",
   "id": "a2b6a0da-1ea0-4f89-aafd-e027edbb4613",
   "metadata": {
    "slideshow": {
     "slide_type": "slide"
    }
   },
   "source": [
    "### Exercício 112\n",
    "\n",
    "A probabilidade de ocorrência de congestionamento em uma fila M/M/1 é 0.2. Dado que houve congestionamento, a chance de atraso é 0.8.\n",
    "\n",
    "<span style=\"color:blue\">\n",
    "$P(A|C) = \\frac{P(A \\cap C)}{P(C)} \\implies P(A \\cap C) = 0.8 \\cdot 0.2 = 0.16$\n",
    "</span> \n",
    "\n",
    "\n",
    "---"
   ]
  },
  {
   "cell_type": "markdown",
   "id": "15dc92c8-7f87-4822-b78d-7daea4ff28be",
   "metadata": {
    "slideshow": {
     "slide_type": "fragment"
    }
   },
   "source": [
    "### Exercício 113\n",
    "\n",
    "Uma rede possui dois enlaces redundantes: A e B. A entrega de pacotes depende de **pelo menos um deles estar operacional**. As estatísticas são:\n",
    "\n",
    "- Enlace A falha com probabilidade $ P(F_A) = 0.02 $\n",
    "- Enlace B falha com $ P(F_B) = 0.03 $\n",
    "- As falhas são independentes\n",
    "\n",
    "O SLA exige entrega **em 99% dos casos ou mais**.\n",
    "\n",
    "\n",
    "\n",
    "✦ **Perguntas:**\n",
    "\n",
    "1/2. Qual a **probabilidade de pelo menos um dos enlaces funcionar e a rede **cumpre o SLA** com essa configuração? Sim**?\n",
    "\n",
    "<span style=\"color:blue\">\n",
    "Vamos primeiro montar o espaço amaostral para todos os casos Possiveis de A e B, on 0 e 1 são enlace em falha e em operação.\n",
    "\n",
    " | A | B |\n",
    "|---|---|\n",
    "| 0 | 0 |\n",
    "| 0 | 1 |\n",
    "| 1 | 0 |\n",
    "| 1 | 1 |\n",
    "\n",
    "Então o caso em em que ambos falham é $ P(F_A)\\cap P(F_A) = P(F_A)\\cdot P(F_B) = 0.02  \\cdot 0.03 = 0.0006$\n",
    "\n",
    "De modo que todos os outros 3 casos estão contemplados em  $1-P(F_A)\\cap P(F_A) =  1-0.0006 = 99.94\\%$. Então, sim a rede cumpre o SLA com este provisionamento.\n",
    "</span>\n",
    "\n",
    "---"
   ]
  },
  {
   "cell_type": "markdown",
   "id": "a8b3f21f-0dc3-4716-b0e4-7c46878ff5eb",
   "metadata": {
    "slideshow": {
     "slide_type": "fragment"
    }
   },
   "source": [
    "### Exercício 115\n",
    "\n",
    "Um sistema de firewall avançado aplica 3 regras em sequência. Cada regra bloqueia com 10%, 15% e 5%, independentemente.\n",
    "\n",
    "✦ **Tarefa extra:** construa um diagrama (ex: árvore, gráfico de barras, ou Venn) que ajude a representar os eventos e probabilidades envolvidos.\n",
    "\n",
    "<span style=\"color:blue\">\n",
    "\n",
    "Vamos ao espaço amostral e probabilidades R1, R2 e R3 são as aplicações das regras, 000 não bloqueia e 111 bloqueia todas\n",
    "R1|R2|R3| P|\n",
    "|---|---|---|---|\n",
    "0|0|0|$0,9\t\\cdot 0,85\\cdot\t0,95=\t0,72675$|\n",
    "0|0|1|$0,9\t\\cdot 0,85\\cdot\t0,05=\t0,03825$|\n",
    "0|1|0|$0,9\t\\cdot 0,15\\cdot\t0,95=\t0,12825$|\n",
    "0|1|1|$0,9\t\\cdot 0,15\\cdot\t0,05=\t0,00675$|\n",
    "1|0|0|$0,1\t\\cdot 0,85\\cdot\t0,95=\t0,08075$|\n",
    "1|0|1|$0,1\t\\cdot 0,85\\cdot\t0,05=\t0,00425$|\n",
    "1|1|0|$0,1\t\\cdot 0,15\\cdot\t0,95=\t0,01425$|\n",
    "1|1|1|$0,1\t\\cdot 0,15\\cdot\t0,05=\t0,00075$|\n",
    "\n",
    "</span>\n",
    "\n",
    "---"
   ]
  },
  {
   "cell_type": "markdown",
   "id": "b979c905-5cfa-46bb-9e7b-e2074dc36732",
   "metadata": {
    "slideshow": {
     "slide_type": "slide"
    }
   },
   "source": [
    "### Exercício 116\n",
    "\n",
    "Um sistema de detecção de intrusão emite alerta com 98% de chance se há ataque, e 4% de falso positivo. A taxa de ataques reais é de 1%. Sabendo que o IDS emitiu um alerta, qual a probabilidade de realmente haver um ataque?\n",
    "\n",
    "✦ **Tarefa extra:** construa um diagrama (ex: árvore, gráfico de barras, ou Venn) que ajude a representar os eventos e probabilidades envolvidos.\n",
    "\n",
    "<span style=\"color:blue\">\n",
    "\n",
    "Vamos montar o espaço amostral e as probabilidades:\n",
    "| Ataque (A) | Alerta (L) | Probabilidade        |\n",
    "|------------|-------------|----------------------|\n",
    "|     0      |      0      | 0.99 × 0.96 = 0.9504 |\n",
    "|     0      |      1      | 0.99 × 0.04 = 0.0396 |\n",
    "|     1      |      0      | 0.01 × 0.02 = 0.0002 |\n",
    "|     1      |      1      | 0.01 × 0.98 = 0.0098 |\n",
    "\n",
    "$P(A|L) = \\frac{P(A \\cap L)}{P(L)} \\implies \\frac{0.01 × 0.98)}{0.0396+0.0098}= 19.84\\%$  \n",
    "\n",
    "</span>\n",
    "\n",
    "---"
   ]
  },
  {
   "cell_type": "markdown",
   "id": "77b99f2c-c5de-4cdb-987c-c64b02a00480",
   "metadata": {
    "slideshow": {
     "slide_type": "fragment"
    }
   },
   "source": [
    "### Exercício 118\n",
    "\n",
    "Dois sensores atuam **independentemente** na detecção de intrusos.  \n",
    "- O **Sensor A** acerta em 85% dos casos.  \n",
    "- O **Sensor B** acerta em 90% dos casos.  \n",
    "\n",
    "Considere que a presença de um intruso ocorre com **probabilidade 0.5**, e a ausência também com **0.5**.  \n",
    "Cada sensor emite um alerta `1` (detecção) ou `0` (não detecção), e podem errar ou acertar independentemente.\n",
    "\n",
    "**Pergunta:**  \n",
    "Liste todos os pares possíveis de saída dos sensores na forma `(A, B) ∈ {0,1} × {0,1}`.\n",
    "\n",
    "\n",
    "<span style=\"color:blue\">\n",
    "\n",
    "Vamos construir o espaço amostral, onde a coluna  classe representa se há ou não intruso.\n",
    "\n",
    "| Linha | Classe | A | B | P(Classe) | P(A)  | P(B)  | P(Conjunta) |\n",
    "|-------|--------|---|---|-----------|-------|-------|-------------|\n",
    "| 1     | 0      | 0 | 0 | 0,5       | 0,85  | 0,9   | 0,3825      |\n",
    "| 2     | 0      | 0 | 1 | 0,5       | 0,85  | 0,1   | 0,0425      |\n",
    "| 3     | 0      | 1 | 0 | 0,5       | 0,15  | 0,9   | 0,0675      |\n",
    "| 4     | 0      | 1 | 1 | 0,5       | 0,15  | 0,1   | 0,0075      |\n",
    "| 5     | 1      | 0 | 0 | 0,5       | 0,15  | 0,1   | 0,0075      |\n",
    "| 6     | 1      | 0 | 1 | 0,5       | 0,15  | 0,9   | 0,0675      |\n",
    "| 7     | 1      | 1 | 0 | 0,5       | 0,85  | 0,1   | 0,0425      |\n",
    "| 8     | 1      | 1 | 1 | 0,5       | 0,85  | 0,9   | 0,3825      |\n",
    "\n",
    "Sem saber a **classe real**, não conseguimos atribuir a **probabilidade correta de saída dos sensores**, pois a **acurácia depende da classe**.\n",
    "\n",
    "A classe representa o **balanceamento do dataset**, ou seja, a proporção com que cada classe (por exemplo, \"intruso\" ou \"sem intruso\") aparece nos dados. Um dataset balanceado tem $ P(\\text{Classe} = 0) = P(\\text{Classe} = 1) = 0{,}5 $, por exemplo.\n",
    "\n",
    "Para calcular a **probabilidade conjunta completa**, usamos:\n",
    "\n",
    "$P(\\text{Classe}, A, B) = P(\\text{Classe}) \\cdot P(A \\mid \\text{Classe}) \\cdot P(B \\mid \\text{Classe})$\n",
    "\n",
    "Portanto, **sem conhecer \\( P(\\text{Classe}) \\)**, não é possível calcular corretamente as **probabilidades conjuntas**, nem aplicar o **Teorema de Bayes** com rigor.\n",
    "\n",
    "</span>\n",
    "\n",
    "---\n",
    "\n"
   ]
  },
  {
   "cell_type": "code",
   "execution_count": 18,
   "id": "1c1ba4ac-8fdb-4d27-9b54-683301057f7e",
   "metadata": {
    "slideshow": {
     "slide_type": "fragment"
    }
   },
   "outputs": [
    {
     "data": {
      "image/png": "[encoded data removed]",
      "text/plain": [
       "Plot with title \"Distribuição Conjunta: Classe × A × B\""
      ]
     },
     "metadata": {
      "image/png": {
       "height": 420,
       "width": 420
      }
     },
     "output_type": "display_data"
    }
   ],
   "source": [
    "# Labels para cada combinação de classe e saídas dos sensores A e B\n",
    "labels <- c(\"Classe=0, A=0, B=0\", \"Classe=0, A=0, B=1\", \"Classe=0, A=1, B=0\", \"Classe=0, A=1, B=1\",\n",
    "            \"Classe=1, A=0, B=0\", \"Classe=1, A=0, B=1\", \"Classe=1, A=1, B=0\", \"Classe=1, A=1, B=1\")\n",
    "\n",
    "# Probabilidades conjuntas conforme a tabela\n",
    "probs <- c(0.3825, 0.0425, 0.0675, 0.0075, 0.0075, 0.0675, 0.0425, 0.3825)\n",
    "\n",
    "# Criar o gráfico de barras\n",
    "bp <- barplot(probs, names.arg = rep(\"\", 8), col = \"skyblue\",\n",
    "              ylim = c(0, 0.45),\n",
    "              main = \"Distribuição Conjunta: Classe × A × B\",\n",
    "              ylab = \"Probabilidade\")\n",
    "\n",
    "# Adicionar os rótulos manualmente em 45 graus\n",
    "text(x = bp, y = par(\"usr\")[3] - 0.01, labels = labels,\n",
    "     srt = 45, adj = 1, xpd = TRUE, cex = 0.8)\n"
   ]
  },
  {
   "cell_type": "markdown",
   "id": "c52f3175-1592-45ac-b081-93a1a1119e33",
   "metadata": {
    "slideshow": {
     "slide_type": "fragment"
    }
   },
   "source": [
    "### Exercício 119 — Probabilidade de Disponibilidade em Redes Mesh\n",
    "\n",
    "Em uma rede **mesh**, cada nó possui **90% de chance de estar disponível** em um dado instante.  \n",
    "Considere dois nós distintos  A  e  B , cujas **disponibilidades são independentes**.\n",
    "\n",
    "**Pergunta:**  \n",
    "Qual a probabilidade de os dois nós estarem disponíveis ao mesmo tempo?\n",
    "\n",
    "<span style=\"color:blue\">\n",
    "\n",
    "\n",
    "    \n",
    "Vamos montar o espaço amostral e calcular as conjuntas (segredo aquin é a conjunção aditiva \"e\" que significa conjunta):\n",
    "\n",
    "| A_disp   | B_disp         | P(A)  * P(B)  | P(conj.) |\n",
    "|----------|----------------|---------------|----------|\n",
    "|    0     |       0        | 0.10  * 0.10  | 0.01   |\n",
    "|    0     |       1        | 0.10  * 0.90  | 0.09   |\n",
    "|    1     |       0        | 0.90  * 0.10  | 0.09   |\n",
    "|    1     |       1        | 0.90  * 0.90  | 0.81   |\n",
    "\n",
    " a probabilidade de os dois nós **estarem disponíveis ao mesmo tempo** é $0.81$\n",
    "\n",
    "</span>\n",
    "\n",
    "---\n",
    "\n"
   ]
  },
  {
   "cell_type": "markdown",
   "id": "d6b0db3f-de70-4d23-aafd-d8fec9f751a5",
   "metadata": {
    "slideshow": {
     "slide_type": "slide"
    }
   },
   "source": [
    "### Exercício 120\n",
    "\n",
    "Um sistema de replicação em nuvem envia cópias de cada pacote por **dois caminhos distintos e independentes**.  \n",
    "A probabilidade de perda em **cada caminho** é de **1%**.  \n",
    "Um pacote só é considerado perdido se **ambos os caminhos falharem simultaneamente**.\n",
    "\n",
    "**✦ Tarefa extra:**  \n",
    "Construa um diagrama (ex: **árvore de probabilidades**, **gráfico de barras** ou **diagrama de Venn**) que represente:\n",
    "\n",
    "- Evento: \"perda em um caminho\"  \n",
    "- Evento: \"recebimento em um caminho\"  \n",
    "- Evento composto: \"perda nos dois caminhos\"  \n",
    "\n",
    "<span style=\"color:blue\">\n",
    "\n",
    "\n",
    "    \n",
    "Vamos montar o espaço amostral e calcular as conjuntas. 0 significa perda :\n",
    "\n",
    "| A_disp   | B_disp         | P(A)  * P(B)  | P(conj.) |\n",
    "|----------|----------------|---------------|----------|\n",
    "|    0     |       0        | 0.01  * 0.01  | 0.0001   |\n",
    "|    0     |       1        | 0.01  * 0.99  | 0.0099   |\n",
    "|    1     |       0        | 0.99  * 0.01  | 0.0099   |\n",
    "|    1     |       1        | 0.99  * 0.99  | 0.9801   |\n",
    "\n",
    " Um pacote só é considerado perdido se **ambos os caminhos falharem simultaneamente** é $0.0001$\n",
    "\n",
    "</span>"
   ]
  },
  {
   "cell_type": "markdown",
   "id": "4c068f0a-48cd-45d0-be72-3db14468e782",
   "metadata": {
    "jp-MarkdownHeadingCollapsed": true,
    "slideshow": {
     "slide_type": "fragment"
    }
   },
   "source": [
    "### Exercício 121\n",
    "\n",
    "Uma conexão segura só é estabelecida se **três etapas criptográficas independentes** forem concluídas com sucesso.  \n",
    "Cada etapa tem **probabilidade de sucesso igual a 0,99**.  \n",
    "Falha em qualquer uma das etapas impede a conexão.\n",
    "\n",
    "**✦ Tarefa extra:**  \n",
    "Construa um diagrama (ex: **árvore de probabilidades**, **gráfico de barras** ou **diagrama de Venn**) que represente:\n",
    "\n",
    "- Evento: \"sucesso em uma etapa\"  \n",
    "- Evento: \"falha em uma etapa\"  \n",
    "- Evento composto: \"todas as etapas com sucesso\" (conexão segura estabelecida)\n",
    "\n",
    "Indique as probabilidades envolvidas e destaque a probabilidade total de sucesso da conexão.\n",
    "<span style=\"color:blue\">\n",
    "\n",
    "Vamos montar o espaço amaostral que terá 3 campos Fase 01, Fase 02 e Fase 03, 1 representa sucesso na criptografia e 0 insucesso.\n",
    "\n",
    "F1|F2|F3| P(conjunta)|\n",
    "|---|---|---|---|\n",
    "0|0|0|$0.01\t* 0.01 *\t0.01=\t0.000001$|\n",
    "0|0|1|$0.01\t* 0.01 *\t0.99=\t0.000099$|\n",
    "0|1|0|$0.01\t* 0.99 *\t0.01=\t0.009801$|\n",
    "0|1|1|$0.01\t* 0.99 *\t0.99=\t0.000099$|\n",
    "1|0|0|$0.99\t* 0.01 *\t0.01=\t0.000099$|\n",
    "1|0|1|$0.99\t* 0.01 *\t0.99=\t0.009801$|\n",
    "1|1|0|$0.99\t* 0.99 *\t0.01=\t0.009801$|\n",
    "1|1|1|$0.99\t* 0.99 *\t0.99=\t0.970299$|\n",
    "\n",
    "probabilidade total de sucesso da conexão é 0.970299\n",
    "\n",
    "</span>"
   ]
  },
  {
   "cell_type": "markdown",
   "id": "701b9c9c-3faa-4cdf-9d63-da190b332622",
   "metadata": {
    "slideshow": {
     "slide_type": "fragment"
    }
   },
   "source": [
    "### Exercício 122\n",
    "\n",
    "O gráfico abaixo mostra a distribuição dos pacotes de rede por tipo de serviço.  \n",
    "Os valores numéricos de cada barra estão indicados **explicitamente**.\n",
    "\n",
    "**✦ Tarefas**  \n",
    "\n",
    "1. Quais são os eventos mutuamente exclusivos representados?\n",
    "2. Qual é a probabilidade de um pacote não ser interativo?\n",
    "3. Calcule a soma total das probabilidades. O que isso indica?\n",
    "4. Podemos considerar essa distribuição como uma função de probabilidade discreta?\n",
    "5. Supondo que maior proporção implique maior prioridade, qual serviço deve ser tratado com maior QoS (qualidade de serviço)?\n",
    "6. Interprete o valor da barra menor em termos de comportamento da rede (ex: largura de banda, latência).\n",
    "\n",
    "<span style=\"color:blue\">\n",
    "\n",
    "Respostas:\n",
    "1. Interativo streaming e em lote\n",
    "2. 55\\%\n",
    "3. 1 - significa que todos os eventos estão representados, ou seja, representam com pletamente $\\Omega$.\n",
    "4. sim. são valores finitos e não contínuos\n",
    "5. Interativo\n",
    "6. Streaming, aceita alguma latencia\n",
    "\n",
    "</span>"
   ]
  },
  {
   "cell_type": "code",
   "execution_count": 81,
   "id": "64ed30ef-507f-42af-b37a-95408874e99e",
   "metadata": {
    "slideshow": {
     "slide_type": "fragment"
    }
   },
   "outputs": [
    {
     "data": {
      "image/png": "[encoded data removed]",
      "text/plain": [
       "Plot with title \"Distribuição dos Pacotes por Tipo de Serviço\""
      ]
     },
     "metadata": {
      "image/png": {
       "height": 420,
       "width": 420
      }
     },
     "output_type": "display_data"
    }
   ],
   "source": [
    "# Gráfico com rótulos de valor\n",
    "tipos <- c(\"Interativo\" = 0.45,\n",
    "           \"Em Lote\"    = 0.35,\n",
    "           \"Streaming\"  = 0.20)\n",
    "\n",
    "b <- barplot(tipos,\n",
    "             col = \"steelblue\",\n",
    "             main = \"Distribuição dos Pacotes por Tipo de Serviço\",\n",
    "             ylab = \"Probabilidade\",\n",
    "             ylim = c(0, 0.5))\n",
    "\n",
    "# Adiciona os valores no topo das barras\n",
    "text(x = b,\n",
    "     y = tipos + 0.02,\n",
    "     labels = paste0(round(tipos * 100), \"%\"),\n",
    "     cex = 1,\n",
    "     font = 2)"
   ]
  },
  {
   "cell_type": "markdown",
   "id": "da2ecd48-31e2-40b8-a383-ff8925f4dec0",
   "metadata": {
    "slideshow": {
     "slide_type": "slide"
    }
   },
   "source": [
    "### Exercício 123 — Firewall e inferência bayesiana\n",
    "Um firewall classifica pacotes de rede como **suspeitos** ou **não suspeitos**. Em uma amostra de tráfego inspecionado, observou-se a distribuição conjunta representado no gráfico:\n",
    "- Calcule $P(\\text{malicioso})$, $P(\\text{suspeito})$\n",
    "- Calcule $P(\\text{malicioso} \\mid \\text{suspeito})$\n",
    "\n",
    "\n",
    "<span style=\"color:blue\">\n",
    "\n",
    "\n",
    "    \n",
    "Vamos montar o espaço amostral na Tabela 123 e calcular as conjuntas. 0 não malicioso/suspeito e 1 caso contrário:\n",
    "\n",
    "| Suspeito | Malicioso |  P(conj.) |\n",
    "|----------|-----------|-----------|\n",
    "|    0     |     0     |  0.784    |\n",
    "|    0     |     1     |  0.016    |\n",
    "|    1     |     0     |  0.080    |\n",
    "|    1     |     1     |  0.120    |\n",
    "\n",
    "\n",
    " Só havendo estados suspeito e malicioso, podemos escrever que os eventos Suspeitos = Suspeito que é malicioso + Suspeito que não é malicioso, daí empregando também a aditividade das probabilidades $P(A\\cup B) = P(A) + P(B)$ temos que:\n",
    " \n",
    " $$\n",
    " S= (S\\cap M) \\cup  (S \\cap \\bar{M}) \\implies P(S)= P(S\\cap M) \\cup  P(S \\cap \\bar{M})\n",
    " $$\n",
    "\n",
    "Da tabela 123, temos $P(S)= P(S\\cap M) \\cup  P(S \\cap \\bar{M}) \\implies P(S) = 0.12 + 0.080 \\implies P(S)= 0.2$\n",
    "\n",
    "Da mesma forma $P(M) = 0.016+0.12 = 0.136$, e\n",
    "\n",
    "$P(M \\mid S) = \\frac{P(S\\cap M)}{P(M)} = \\frac{0.12}{0.12+0.08} = 0.6$\n",
    " \n",
    "\n",
    "</span>\n",
    "\n",
    "---"
   ]
  },
  {
   "cell_type": "code",
   "execution_count": 89,
   "id": "deb6a308-f218-48f5-8f25-eac61440dc5b",
   "metadata": {
    "slideshow": {
     "slide_type": "fragment"
    }
   },
   "outputs": [
    {
     "data": {
      "image/png": "[encoded data removed]",
      "text/plain": [
       "Plot with title \"Ameaça vs Realidade\""
      ]
     },
     "metadata": {
      "image/png": {
       "height": 420,
       "width": 420
      }
     },
     "output_type": "display_data"
    }
   ],
   "source": [
    "probs <- c(0.12, 0.08, 0.016, 0.784)\n",
    "labels <- c(\"Suspeito e Malicioso\", \"Suspeito e Não Malicioso\",\n",
    "            \"Não Suspeito e Malicioso\", \"Não Suspeito e Não Malicioso\")\n",
    "\n",
    "# Cria o barplot sem rótulos no eixo X\n",
    "bp <- barplot(probs,\n",
    "              names.arg = rep(\"\", length(labels)),\n",
    "              col = \"steelblue\",\n",
    "              ylim = c(0, 0.8),\n",
    "              main = \"Ameaça vs Realidade\",\n",
    "              ylab = \"Probabilidade\")\n",
    "\n",
    "# Adiciona os rótulos manualmente com rotação\n",
    "text(x = bp,\n",
    "     y = par(\"usr\")[3] - 0.03,\n",
    "     labels = labels,\n",
    "     srt = 45,\n",
    "     adj = 1,\n",
    "     xpd = TRUE,\n",
    "     cex = 0.8)\n"
   ]
  },
  {
   "cell_type": "markdown",
   "id": "cfe123a8-2719-471a-ba35-205cfeace012",
   "metadata": {
    "slideshow": {
     "slide_type": "fragment"
    }
   },
   "source": [
    "### Exercício 124 — Atraso em rede LTE\n",
    "\n",
    "Tarefas:\n",
    "- Calcule $P(\\text{atraso})$, $P(\\text{urgente})$\n",
    "- Calcule $P(\\text{urgente} \\mid \\text{atraso})$\n",
    "\n",
    "<span style=\"color:blue\">\n",
    "\n",
    "Vamos analisar a distribuição conjunta dos eventos **Urgente (U)** e **Atraso (A)**, conforme a Tabela 124:\n",
    "\n",
    "| Urgente ($U$) | Atraso ($A$) | $P(U, A)$ |\n",
    "|---------------|--------------|-----------|\n",
    "| 0             | 0            | 0.595     |\n",
    "| 0             | 1            | 0.105     |\n",
    "| 1             | 0            | 0.276     |\n",
    "| 1             | 1            | 0.024     |\n",
    "\n",
    "Utilizando a propriedade da aditividade para eventos disjuntos:\n",
    "\n",
    "$$\n",
    "P(A = 1) = P(A = 1 \\cap U = 1) + P(A = 1 \\cap U = 0)\n",
    "$$\n",
    "\n",
    "Substituindo os valores da tabela:\n",
    "\n",
    "$$\n",
    "P(A = 1) = 0.024 + 0.105 = 0.129\n",
    "$$\n",
    "\n",
    "De forma análoga:\n",
    "\n",
    "$$\n",
    "P(U = 1) = 0.276 + 0.024 = 0.3\n",
    "$$\n",
    "\n",
    "Aplicando a definição de probabilidade condicional:\n",
    "\n",
    "$$\n",
    "P(U = 1 \\mid A = 1) = \\frac{P(U = 1 \\cap A = 1)}{P(A = 1)} = \\frac{0.024}{0.129} \\approx 0.186\n",
    "$$\n",
    "\n",
    "\n",
    "</span>\n",
    "\n",
    "---"
   ]
  },
  {
   "cell_type": "code",
   "execution_count": 95,
   "id": "8867570a-bf96-4b4b-818a-36b6d12a1bd5",
   "metadata": {
    "slideshow": {
     "slide_type": "fragment"
    }
   },
   "outputs": [
    {
     "data": {
      "image/png": "[encoded data removed]",
      "text/plain": [
       "Plot with title \"Atraso por Tipo de Pacote\""
      ]
     },
     "metadata": {
      "image/png": {
       "height": 420,
       "width": 420
      }
     },
     "output_type": "display_data"
    }
   ],
   "source": [
    "probs <- c(0.30 * 0.08, 0.30 * 0.92, 0.70 * 0.15, 0.70 * 0.85)\n",
    "labels <- c(\"Urgente+Atraso\", \"Urgente+Sem Atraso\",\n",
    "            \"Comum+Atraso\", \"Comum+Sem Atraso\")\n",
    "\n",
    "# Cria o barplot e salva as posições das barras em bp\n",
    "bp <- barplot(probs,\n",
    "              names.arg = rep(\"\", length(labels)),\n",
    "              col = \"tomato\",\n",
    "              las = 2,\n",
    "              main = \"Atraso por Tipo de Pacote\",\n",
    "              ylim = c(0, 0.6),\n",
    "              ylab = \"Probabilidade\")\n",
    "\n",
    "# Adiciona os rótulos com rotação de 45 graus\n",
    "text(x = bp,\n",
    "     y = par(\"usr\")[3] - 0.03,\n",
    "     labels = labels,\n",
    "     srt = 45,\n",
    "     adj = 1,\n",
    "     xpd = TRUE,\n",
    "     cex = 0.8)\n"
   ]
  },
  {
   "cell_type": "markdown",
   "id": "34dc65eb-def5-4f19-967c-a7bb0ddfc635",
   "metadata": {
    "slideshow": {
     "slide_type": "fragment"
    }
   },
   "source": [
    "### Exercício 125 — IDS e detecção de ataques\n",
    "\n",
    "```r\n",
    "probs <- c(0.15 * 0.90, 0.15 * 0.10, 0.85 * 0.05, 0.85 * 0.95)\n",
    "labels <- c(\"Ataque Detectado\", \"Ataque Não Detectado\",\n",
    "            \"Normal com Alerta\", \"Normal sem Alerta\")\n",
    "barplot(probs, names.arg = labels, col = \"orange\", las = 2,\n",
    "        main = \"Resposta do IDS\", ylab = \"Probabilidade\")\n",
    "```\n",
    "\n",
    "Tarefas:\n",
    "- Calcule $P(\\text{alerta})$\n",
    "- Calcule $P(\\text{ataque} \\mid \\text{alerta})$\n",
    "\n",
    "---\n",
    "\n",
    "### Exercício 126 — Classificação de tráfego prioritário\n",
    "\n",
    "```r\n",
    "probs <- c(0.6 * 0.90, 0.6 * 0.10, 0.4 * 0.30, 0.4 * 0.70)\n",
    "labels <- c(\"Prioritário+Entrega\", \"Prioritário+Perda\",\n",
    "            \"Comum+Entrega\", \"Comum+Perda\")\n",
    "barplot(probs, names.arg = labels, col = \"darkgreen\", las = 2,\n",
    "        main = \"Entrega de Pacotes por Classe\", ylab = \"Probabilidade\")\n",
    "```\n",
    "\n",
    "Tarefas:\n",
    "- Calcule $P(\\text{entrega})$, $P(\\text{prioritário})$\n",
    "- Calcule $P(\\text{prioritário} \\mid \\text{entregue})$\n",
    "\n",
    "---\n",
    "\n",
    "### Exercício 127 — Sensores com sobreposição de eventos\n",
    "\n",
    "```r\n",
    "probs <- c(0.72, 0.18, 0.10)\n",
    "labels <- c(\"Sensor A\", \"Sensor B\", \"Ambos\")\n",
    "barplot(probs, names.arg = labels, col = \"purple\", las = 2,\n",
    "        main = \"Eventos Detectados por Sensores\", ylab = \"Probabilidade\")\n",
    "```\n",
    "\n",
    "Tarefas:\n",
    "- Interprete a sobreposição dos sensores\n",
    "- Calcule a probabilidade marginal e condicional\n",
    "\n",
    "---\n",
    "\n",
    "### Exercício 128 — Balanceador de carga com falhas\n",
    "\n",
    "```r\n",
    "probs <- c(0.40 * 0.05, 0.40 * 0.95, 0.60 * 0.02, 0.60 * 0.98)\n",
    "labels <- c(\"Servidor A+Falha\", \"Servidor A+OK\",\n",
    "            \"Servidor B+Falha\", \"Servidor B+OK\")\n",
    "barplot(probs, names.arg = labels, col = \"brown\", las = 2,\n",
    "        main = \"Falhas por Servidor\", ylab = \"Probabilidade\")\n",
    "```\n",
    "\n",
    "Tarefas:\n",
    "- Calcule $P(\\text{falha})$\n",
    "- Calcule $P(\\text{Servidor A} \\mid \\text{falha})$\n",
    "\n",
    "---\n",
    "\n",
    "\n",
    "### Exercício 129 — Autenticação multifator\n",
    "\n",
    "Dois fatores independentes de autenticação possuem as seguintes acurácias:\n",
    "- Fator 1: 96%\n",
    "- Fator 2: 98%\n",
    "\n",
    "Tarefas:\n",
    "- Calcule a probabilidade conjunta de autenticação correta.\n",
    "- Qual a chance de autenticação falhar?\n",
    "\n",
    "---\n",
    "\n",
    "### Exercício 130 — Jitter em pacotes de voz\n",
    "\n",
    "Em uma rede, 70% dos pacotes são de voz. O jitter ocorre com:\n",
    "- 10% nos pacotes de voz\n",
    "- 5% nos demais pacotes\n",
    "\n",
    "Tarefas:\n",
    "- Calcule a probabilidade de um pacote ter jitter.\n",
    "- Calcule a probabilidade de ser voz dado que teve jitter.\n",
    "\n",
    "---\n",
    "\n",
    "### Exercício 131 — VLANs e legitimidade de pacotes\n",
    "\n",
    "```r\n",
    "probs <- c(0.10 * 0.90, 0.10 * 0.10, 0.90 * 0.40, 0.90 * 0.60)\n",
    "labels <- c(\"VLAN10+Legítimo\", \"VLAN10+Ilegítimo\",\n",
    "            \"Outras+Legítimo\", \"Outras+Ilegítimo\")\n",
    "barplot(probs, names.arg = labels, col = \"skyblue\", las = 2,\n",
    "        main = \"Legitimidade por VLAN\", ylab = \"Probabilidade\")\n",
    "```\n",
    "\n",
    "Tarefas:\n",
    "- Calcule a probabilidade de um pacote ser legítimo.\n",
    "- Calcule $P(\\text{VLAN10} \\mid \\text{legítimo})$\n",
    "\n",
    "---\n",
    "\n",
    "### Exercício 132 — Congestionamento e atraso\n",
    "\n",
    "Em uma fila M/M/1:\n",
    "- Probabilidade de congestionamento: 0.20\n",
    "- Dado congestionamento, há atraso com 80%\n",
    "\n",
    "Tarefas:\n",
    "- Calcule a probabilidade conjunta de atraso e congestionamento.\n",
    "- Calcule $P(\\text{congestionamento} \\mid \\text{atraso})$\n",
    "\n",
    "---\n",
    "\n",
    "### Exercício 133 — SLA vs Desempenho real\n",
    "\n",
    "SLA exige entrega de 99% dos pacotes. A rede atual entrega 98%.\n",
    "\n",
    "Tarefas:\n",
    "- Quantos pacotes a mais são perdidos por milhão em relação ao SLA?\n",
    "- Essa diferença pode ser crítica? Explique.\n",
    "\n",
    "---\n",
    "\n",
    "### Exercício 134 — Queda de sessão em 5G\n",
    "\n",
    "Queda de sessão em uma rede 5G ocorre com 0.5%, independentemente da banda.\n",
    "\n",
    "Tarefas:\n",
    "- Em um milhão de sessões, quantas se espera perder?\n",
    "- Qual seria a expectativa em um dia com 20 mil sessões?\n",
    "\n",
    "---\n",
    "\n",
    "### Exercício 135 — Regras independentes de firewall\n",
    "\n",
    "Regras aplicadas sequencialmente:\n",
    "- Regra 1: bloqueia 10%\n",
    "- Regra 2: bloqueia 15%\n",
    "- Regra 3: bloqueia 5%\n",
    "\n",
    "Tarefas:\n",
    "- Qual a chance de um pacote ser bloqueado por pelo menos uma regra?\n",
    "- E de passar por todas?\n",
    "\n",
    "---\n",
    "\n",
    "### Exercício 136 — IDS e taxa de falso positivo\n",
    "\n",
    "```r\n",
    "probs <- c(0.01 * 0.98, 0.01 * 0.02, 0.99 * 0.04, 0.99 * 0.96)\n",
    "labels <- c(\"Ataque+Alerta\", \"Ataque+Sem Alerta\",\n",
    "            \"Normal+Falso Alerta\", \"Normal+Sem Alerta\")\n",
    "barplot(probs, names.arg = labels, col = \"darkred\", las = 2,\n",
    "        main = \"Alertas do IDS\", ylab = \"Probabilidade\")\n",
    "```\n",
    "\n",
    "Tarefas:\n",
    "- Calcule a chance de alerta total.\n",
    "- Calcule $P(\\text{ataque} \\mid \\text{alerta})$\n",
    "\n",
    "---\n",
    "\n",
    "### Exercício 137 — Retransmissão após perda\n",
    "\n",
    "- Probabilidade de perda: 1%\n",
    "- Probabilidade de retransmissão bem-sucedida: 95%\n",
    "\n",
    "Tarefas:\n",
    "- Qual a chance de recuperação total após perda?\n",
    "- Qual a chance de perda irreversível?\n",
    "\n",
    "---\n",
    "\n",
    "### Exercício 138 — Detecção por dois sensores\n",
    "\n",
    "Sensores independentes detectam com:\n",
    "- Sensor A: 90%\n",
    "- Sensor B: 85%\n",
    "\n",
    "Tarefas:\n",
    "- Qual a chance de pelo menos um sensor detectar?\n",
    "- Qual a chance de ambos falharem?\n",
    "\n",
    "---\n",
    "\n",
    "### Exercício 139 — Disponibilidade em rede mesh\n",
    "\n",
    "- Um nó está disponível com 90%\n",
    "- Dois nós simultaneamente: independentes\n",
    "\n",
    "Tarefas:\n",
    "- Qual a chance de ambos estarem disponíveis?\n",
    "- E de ao menos um estar disponível?\n",
    "\n",
    "---\n",
    "\n",
    "### Exercício 140 — Replicação em nuvem\n",
    "\n",
    "Dois caminhos replicam pacotes com perdas de 1% cada, independentemente.\n",
    "\n",
    "Tarefas:\n",
    "- Qual a chance de pelo menos um caminho entregar?\n",
    "- Qual a chance de perda simultânea?"
   ]
  },
  {
   "cell_type": "code",
   "execution_count": null,
   "id": "089769ef-cf67-4842-aa76-9003d20f6aec",
   "metadata": {
    "slideshow": {
     "slide_type": "fragment"
    }
   },
   "outputs": [],
   "source": []
  },
  {
   "cell_type": "markdown",
   "id": "a41c46f6-c2c7-4999-ad44-a7b1356fec1a",
   "metadata": {
    "slideshow": {
     "slide_type": "slide"
    }
   },
   "source": [
    "### Exercício 134\n",
    "\n",
    "Em uma rede 5G com agregação de portadoras, um usuário está conectado simultaneamente à **banda n78 (3,5 GHz)** e à **banda n258 (26 GHz)**. Cada uma pode, **independentemente**, sofrer queda de sessão com probabilidade de **5%**.\n",
    "\n",
    "**Pergunta:**  \n",
    "Qual a probabilidade de o usuário sofrer **interrupção total da sessão**, considerando que ela continua ativa se ao menos uma banda estiver funcional?\n",
    "\n",
    "✦ **Tarefa extra:**  \n",
    "\n",
    "Construa um diagrama de **árvore de possibilidades**, gráfico de barras ou **diagrama de Venn** que represente:\n",
    "\n",
    "- os **eventos de falha** em cada banda,  \n",
    "- a probabilidade de cada cenário possível  \n",
    "\n",
    "<span style=\"color:blue\">\n",
    "Vamos primeiro montar o espaço amaostral para todos os casos Possiveis de N78 e N258, on 0 e 1 são enlace em falha e em operação.\n",
    "Como N& e N2 são independentes P(n7) falhar é sempre 0.05 e  P(n7) não falhar é sempre 0.95. Assim como P(n2) falhar é sempre 0.05 e  P(n2) não falhar é sempre 0.95\n",
    "    \n",
    " | N7 | N2 |P |\n",
    "|---|---|---|\n",
    "| 0 | 0 |$0.5 \\cdot 0.5= 0.0025$|\n",
    "| 0 | 1 |$0.5 \\cdot 0.95=0.0475$|\n",
    "| 1 | 0 |$0.95\\cdot0.5=0.0475$|\n",
    "| 1 | 1 |$0.95\\cdot0.95=0.9025$|\n",
    "\n",
    "Então o caso em em que ambos falham é $ P(F_{N7}\\cap F_{N2}) = 0.05 \\cdot 0.05 = 0.0025\\%$\n",
    "\n",
    "De modo que todos os outros 3 casos estão contemplados em  $1- P(F_{N7}\\cap F_{N2}) =  1-0.0025= 99.75\\%$.\n",
    "</span>\n",
    "\n",
    "---\n",
    "\n"
   ]
  },
  {
   "cell_type": "markdown",
   "id": "b931027e-8466-4f4f-ad1a-0dab670cf2cc",
   "metadata": {
    "slideshow": {
     "slide_type": "fragment"
    }
   },
   "source": [
    "### Exercício 135\n",
    "\n",
    "Em um sistema de comunicação, **1% dos pacotes são perdidos na transmissão inicial**. Quando isso ocorre, o sistema tenta uma **retransmissão imediata**, que tem **95% de chance de sucesso**.\n",
    "\n",
    "**Pergunta:**  \n",
    "Qual a probabilidade de um pacote precisar ser retransmitido **e ainda assim ser perdido**?\n",
    "\n",
    "✦ **Tarefa extra:**  \n",
    "Construa um **diagrama de árvore de possibilidades** ou um **gráfico de barras** que represente:\n",
    "\n",
    "<span style=\"color:blue\">\n",
    "\n",
    "\n",
    "    \n",
    "Vamos montar o espaço amostral e calcular as conjuntas (segredo aquin é a conjunção aditiva \"e\" que significa conjunta):\n",
    "\n",
    "| Perdidos | Retransmitidos | P(1)  * P(2)  | P(total) |\n",
    "|----------|----------------|---------------|----------|\n",
    "|    0     |       0        | 0.99  * 0.95  | 0.9405   |\n",
    "|    0     |       1        | 0.99  * 0.05  | 0.0495   |\n",
    "|    1     |       0        | 0.01  * 0.05  | 0.0005   |\n",
    "|    1     |       1        | 0.01  * 0.95  | 0.0095   |\n",
    "\n",
    "A probabilidade de um pacote precisar ser retransmitido **e ainda assim ser perdido** = $0.0005$\n",
    "\n",
    "</span>\n",
    "\n",
    "---\n"
   ]
  }
 ],
 "metadata": {
  "kernelspec": {
   "display_name": "R",
   "language": "R",
   "name": "ir"
  },
  "language_info": {
   "codemirror_mode": "r",
   "file_extension": ".r",
   "mimetype": "text/x-r-source",
   "name": "R",
   "pygments_lexer": "r",
   "version": "4.5.1"
  }
 },
 "nbformat": 4,
 "nbformat_minor": 5
}
